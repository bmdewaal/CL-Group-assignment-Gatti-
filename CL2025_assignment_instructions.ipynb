{
  "cells": [
    {
      "cell_type": "markdown",
      "metadata": {
        "id": "GcbFlt0uJpNc"
      },
      "source": [
        "In this assignment you will be asked to extend the work by Gatti et al by checking whether form-meaning mappings learned on a different yet related language to that considered in the original study still capture the perceived valence of pseudowords. To do this you will be asked to engage with several different resources and adapt the pipeline following the instructions. Along the way, you will be asked to answer a few questions.\n",
        "\n",
        "You need to submit the complete notebook in .ipynb format, with intermediate outputs visible. The notebook should be named as follows:\n",
        "\n",
        "CL2025_groupN_assignment.ipynb\n",
        "\n",
        "where N is the group number. Submissions in the wrong format or with names not adhering to the guidelines will not be evaluated."
      ]
    },
    {
      "cell_type": "markdown",
      "metadata": {
        "id": "6rkN7t4rqacE"
      },
      "source": [
        "Indicate group members' names, student numbers, and contributions below:\n",
        "- 1.\n",
        "- 2.\n",
        "- 3.\n",
        "- 4.\n",
        "- 5."
      ]
    },
    {
      "cell_type": "code",
      "execution_count": 1,
      "metadata": {
        "colab": {
          "base_uri": "https://localhost:8080/"
        },
        "collapsed": true,
        "id": "OQbS5Urfit8W",
        "outputId": "58df468b-6daa-4b77-b4c4-19dea3361b30"
      },
      "outputs": [
        {
          "name": "stdout",
          "output_type": "stream",
          "text": [
            "fatal: destination path 'psycho-embeddings' already exists and is not an empty directory.\n",
            "/Users/bramdewaal/Desktop/Uni/VSC/CL/Group Assignment/psycho-embeddings\n"
          ]
        },
        {
          "name": "stderr",
          "output_type": "stream",
          "text": [
            "/Users/bramdewaal/Library/Python/3.11/lib/python/site-packages/IPython/core/magics/osm.py:417: UserWarning: This is now an optional IPython functionality, setting dhist requires you to install the `pickleshare` library.\n",
            "  self.shell.db['dhist'] = compress_dhist(dhist)[-100:]\n"
          ]
        },
        {
          "name": "stdout",
          "output_type": "stream",
          "text": [
            "\u001b[33mDEPRECATION: Loading egg at /Users/bramdewaal/anaconda3/lib/python3.11/site-packages/colorcorrect-0.9.1-py3.11-macosx-11.1-arm64.egg is deprecated. pip 24.3 will enforce this behaviour change. A possible replacement is to use pip for package installation. Discussion can be found at https://github.com/pypa/pip/issues/12330\u001b[0m\u001b[33m\n",
            "\u001b[0mRequirement already satisfied: datasets in /Users/bramdewaal/anaconda3/lib/python3.11/site-packages (3.1.0)\n",
            "Requirement already satisfied: filelock in /Users/bramdewaal/anaconda3/lib/python3.11/site-packages (from datasets) (3.13.1)\n",
            "Requirement already satisfied: numpy>=1.17 in /Users/bramdewaal/anaconda3/lib/python3.11/site-packages (from datasets) (1.26.4)\n",
            "Requirement already satisfied: pyarrow>=15.0.0 in /Users/bramdewaal/anaconda3/lib/python3.11/site-packages (from datasets) (18.0.0)\n",
            "Requirement already satisfied: dill<0.3.9,>=0.3.0 in /Users/bramdewaal/anaconda3/lib/python3.11/site-packages (from datasets) (0.3.8)\n",
            "Requirement already satisfied: pandas in /Users/bramdewaal/anaconda3/lib/python3.11/site-packages (from datasets) (2.1.4)\n",
            "Requirement already satisfied: requests>=2.32.2 in /Users/bramdewaal/anaconda3/lib/python3.11/site-packages (from datasets) (2.32.3)\n",
            "Requirement already satisfied: tqdm>=4.66.3 in /Users/bramdewaal/anaconda3/lib/python3.11/site-packages (from datasets) (4.67.0)\n",
            "Requirement already satisfied: xxhash in /Users/bramdewaal/anaconda3/lib/python3.11/site-packages (from datasets) (3.5.0)\n",
            "Requirement already satisfied: multiprocess<0.70.17 in /Users/bramdewaal/anaconda3/lib/python3.11/site-packages (from datasets) (0.70.16)\n",
            "Requirement already satisfied: fsspec<=2024.9.0,>=2023.1.0 in /Users/bramdewaal/anaconda3/lib/python3.11/site-packages (from fsspec[http]<=2024.9.0,>=2023.1.0->datasets) (2023.10.0)\n",
            "Requirement already satisfied: aiohttp in /Users/bramdewaal/anaconda3/lib/python3.11/site-packages (from datasets) (3.9.3)\n",
            "Requirement already satisfied: huggingface-hub>=0.23.0 in /Users/bramdewaal/anaconda3/lib/python3.11/site-packages (from datasets) (0.26.2)\n",
            "Requirement already satisfied: packaging in /Users/bramdewaal/anaconda3/lib/python3.11/site-packages (from datasets) (23.2)\n",
            "Requirement already satisfied: pyyaml>=5.1 in /Users/bramdewaal/anaconda3/lib/python3.11/site-packages (from datasets) (6.0.1)\n",
            "Requirement already satisfied: aiosignal>=1.1.2 in /Users/bramdewaal/anaconda3/lib/python3.11/site-packages (from aiohttp->datasets) (1.2.0)\n",
            "Requirement already satisfied: attrs>=17.3.0 in /Users/bramdewaal/anaconda3/lib/python3.11/site-packages (from aiohttp->datasets) (23.1.0)\n",
            "Requirement already satisfied: frozenlist>=1.1.1 in /Users/bramdewaal/anaconda3/lib/python3.11/site-packages (from aiohttp->datasets) (1.4.0)\n",
            "Requirement already satisfied: multidict<7.0,>=4.5 in /Users/bramdewaal/anaconda3/lib/python3.11/site-packages (from aiohttp->datasets) (6.0.4)\n",
            "Requirement already satisfied: yarl<2.0,>=1.0 in /Users/bramdewaal/anaconda3/lib/python3.11/site-packages (from aiohttp->datasets) (1.9.3)\n",
            "Requirement already satisfied: typing-extensions>=3.7.4.3 in /Users/bramdewaal/anaconda3/lib/python3.11/site-packages (from huggingface-hub>=0.23.0->datasets) (4.12.2)\n",
            "Requirement already satisfied: charset-normalizer<4,>=2 in /Users/bramdewaal/anaconda3/lib/python3.11/site-packages (from requests>=2.32.2->datasets) (2.0.4)\n",
            "Requirement already satisfied: idna<4,>=2.5 in /Users/bramdewaal/anaconda3/lib/python3.11/site-packages (from requests>=2.32.2->datasets) (3.4)\n",
            "Requirement already satisfied: urllib3<3,>=1.21.1 in /Users/bramdewaal/anaconda3/lib/python3.11/site-packages (from requests>=2.32.2->datasets) (2.0.7)\n",
            "Requirement already satisfied: certifi>=2017.4.17 in /Users/bramdewaal/anaconda3/lib/python3.11/site-packages (from requests>=2.32.2->datasets) (2024.2.2)\n",
            "Requirement already satisfied: python-dateutil>=2.8.2 in /Users/bramdewaal/anaconda3/lib/python3.11/site-packages (from pandas->datasets) (2.8.2)\n",
            "Requirement already satisfied: pytz>=2020.1 in /Users/bramdewaal/anaconda3/lib/python3.11/site-packages (from pandas->datasets) (2023.3.post1)\n",
            "Requirement already satisfied: tzdata>=2022.1 in /Users/bramdewaal/anaconda3/lib/python3.11/site-packages (from pandas->datasets) (2023.3)\n",
            "Requirement already satisfied: six>=1.5 in /Users/bramdewaal/anaconda3/lib/python3.11/site-packages (from python-dateutil>=2.8.2->pandas->datasets) (1.16.0)\n"
          ]
        }
      ],
      "source": [
        "# the code has been tested using the psycho-embeddings library to extract representations from LLMs. You can also use other libraries,\n",
        "# as long as you make sure that you are producing the correct output.\n",
        "!git clone https://github.com/MilaNLProc/psycho-embeddings.git\n",
        "%cd psycho-embeddings\n",
        "!pip install datasets\n"
      ]
    },
    {
      "cell_type": "code",
      "execution_count": 26,
      "metadata": {},
      "outputs": [
        {
          "name": "stdout",
          "output_type": "stream",
          "text": [
            "Requirement already satisfied: nltk in /Library/Frameworks/Python.framework/Versions/3.11/lib/python3.11/site-packages (3.9.1)\n",
            "Requirement already satisfied: click in /Library/Frameworks/Python.framework/Versions/3.11/lib/python3.11/site-packages (from nltk) (8.1.8)\n",
            "Requirement already satisfied: joblib in /Library/Frameworks/Python.framework/Versions/3.11/lib/python3.11/site-packages (from nltk) (1.4.2)\n",
            "Requirement already satisfied: regex>=2021.8.3 in /Library/Frameworks/Python.framework/Versions/3.11/lib/python3.11/site-packages (from nltk) (2024.11.6)\n",
            "Requirement already satisfied: tqdm in /Library/Frameworks/Python.framework/Versions/3.11/lib/python3.11/site-packages (from nltk) (4.66.5)\n",
            "Note: you may need to restart the kernel to use updated packages.\n",
            "Requirement already satisfied: fasttext in /Library/Frameworks/Python.framework/Versions/3.11/lib/python3.11/site-packages (0.9.3)\n",
            "Requirement already satisfied: pybind11>=2.2 in /Library/Frameworks/Python.framework/Versions/3.11/lib/python3.11/site-packages (from fasttext) (2.13.6)\n",
            "Requirement already satisfied: setuptools>=0.7.0 in /Library/Frameworks/Python.framework/Versions/3.11/lib/python3.11/site-packages (from fasttext) (65.5.0)\n",
            "Requirement already satisfied: numpy in /Library/Frameworks/Python.framework/Versions/3.11/lib/python3.11/site-packages (from fasttext) (2.1.1)\n",
            "Note: you may need to restart the kernel to use updated packages.\n",
            "Requirement already satisfied: psycho_embeddings in /Library/Frameworks/Python.framework/Versions/3.11/lib/python3.11/site-packages (0.1.0)\n",
            "Requirement already satisfied: transformers>=4.30.2 in /Library/Frameworks/Python.framework/Versions/3.11/lib/python3.11/site-packages (from psycho_embeddings) (4.50.3)\n",
            "Requirement already satisfied: sentencepiece>=0.2.0 in /Library/Frameworks/Python.framework/Versions/3.11/lib/python3.11/site-packages (from psycho_embeddings) (0.2.0)\n",
            "Requirement already satisfied: tqdm>=4.66.4 in /Library/Frameworks/Python.framework/Versions/3.11/lib/python3.11/site-packages (from psycho_embeddings) (4.66.5)\n",
            "Requirement already satisfied: datasets>=2.19.1 in /Library/Frameworks/Python.framework/Versions/3.11/lib/python3.11/site-packages (from psycho_embeddings) (3.5.0)\n",
            "Requirement already satisfied: torch in /Library/Frameworks/Python.framework/Versions/3.11/lib/python3.11/site-packages (from psycho_embeddings) (2.6.0)\n",
            "Requirement already satisfied: filelock in /Library/Frameworks/Python.framework/Versions/3.11/lib/python3.11/site-packages (from datasets>=2.19.1->psycho_embeddings) (3.17.0)\n",
            "Requirement already satisfied: numpy>=1.17 in /Library/Frameworks/Python.framework/Versions/3.11/lib/python3.11/site-packages (from datasets>=2.19.1->psycho_embeddings) (2.1.1)\n",
            "Requirement already satisfied: pyarrow>=15.0.0 in /Library/Frameworks/Python.framework/Versions/3.11/lib/python3.11/site-packages (from datasets>=2.19.1->psycho_embeddings) (19.0.1)\n",
            "Requirement already satisfied: dill<0.3.9,>=0.3.0 in /Library/Frameworks/Python.framework/Versions/3.11/lib/python3.11/site-packages (from datasets>=2.19.1->psycho_embeddings) (0.3.8)\n",
            "Requirement already satisfied: pandas in /Library/Frameworks/Python.framework/Versions/3.11/lib/python3.11/site-packages (from datasets>=2.19.1->psycho_embeddings) (2.2.3)\n",
            "Requirement already satisfied: requests>=2.32.2 in /Library/Frameworks/Python.framework/Versions/3.11/lib/python3.11/site-packages (from datasets>=2.19.1->psycho_embeddings) (2.32.3)\n",
            "Requirement already satisfied: xxhash in /Library/Frameworks/Python.framework/Versions/3.11/lib/python3.11/site-packages (from datasets>=2.19.1->psycho_embeddings) (3.5.0)\n",
            "Requirement already satisfied: multiprocess<0.70.17 in /Library/Frameworks/Python.framework/Versions/3.11/lib/python3.11/site-packages (from datasets>=2.19.1->psycho_embeddings) (0.70.16)\n",
            "Requirement already satisfied: fsspec<=2024.12.0,>=2023.1.0 in /Library/Frameworks/Python.framework/Versions/3.11/lib/python3.11/site-packages (from fsspec[http]<=2024.12.0,>=2023.1.0->datasets>=2.19.1->psycho_embeddings) (2024.12.0)\n",
            "Requirement already satisfied: aiohttp in /Library/Frameworks/Python.framework/Versions/3.11/lib/python3.11/site-packages (from datasets>=2.19.1->psycho_embeddings) (3.11.15)\n",
            "Requirement already satisfied: huggingface-hub>=0.24.0 in /Library/Frameworks/Python.framework/Versions/3.11/lib/python3.11/site-packages (from datasets>=2.19.1->psycho_embeddings) (0.30.0)\n",
            "Requirement already satisfied: packaging in /Users/bramdewaal/Library/Python/3.11/lib/python/site-packages (from datasets>=2.19.1->psycho_embeddings) (24.1)\n",
            "Requirement already satisfied: pyyaml>=5.1 in /Library/Frameworks/Python.framework/Versions/3.11/lib/python3.11/site-packages (from datasets>=2.19.1->psycho_embeddings) (6.0.2)\n",
            "Requirement already satisfied: regex!=2019.12.17 in /Library/Frameworks/Python.framework/Versions/3.11/lib/python3.11/site-packages (from transformers>=4.30.2->psycho_embeddings) (2024.11.6)\n",
            "Requirement already satisfied: tokenizers<0.22,>=0.21 in /Library/Frameworks/Python.framework/Versions/3.11/lib/python3.11/site-packages (from transformers>=4.30.2->psycho_embeddings) (0.21.1)\n",
            "Requirement already satisfied: safetensors>=0.4.3 in /Library/Frameworks/Python.framework/Versions/3.11/lib/python3.11/site-packages (from transformers>=4.30.2->psycho_embeddings) (0.5.3)\n",
            "Requirement already satisfied: typing-extensions>=4.10.0 in /Users/bramdewaal/Library/Python/3.11/lib/python/site-packages (from torch->psycho_embeddings) (4.12.2)\n",
            "Requirement already satisfied: networkx in /Library/Frameworks/Python.framework/Versions/3.11/lib/python3.11/site-packages (from torch->psycho_embeddings) (3.3)\n",
            "Requirement already satisfied: jinja2 in /Library/Frameworks/Python.framework/Versions/3.11/lib/python3.11/site-packages (from torch->psycho_embeddings) (3.1.4)\n",
            "Requirement already satisfied: sympy==1.13.1 in /Library/Frameworks/Python.framework/Versions/3.11/lib/python3.11/site-packages (from torch->psycho_embeddings) (1.13.1)\n",
            "Requirement already satisfied: mpmath<1.4,>=1.1.0 in /Library/Frameworks/Python.framework/Versions/3.11/lib/python3.11/site-packages (from sympy==1.13.1->torch->psycho_embeddings) (1.3.0)\n",
            "Requirement already satisfied: aiohappyeyeballs>=2.3.0 in /Library/Frameworks/Python.framework/Versions/3.11/lib/python3.11/site-packages (from aiohttp->datasets>=2.19.1->psycho_embeddings) (2.6.1)\n",
            "Requirement already satisfied: aiosignal>=1.1.2 in /Library/Frameworks/Python.framework/Versions/3.11/lib/python3.11/site-packages (from aiohttp->datasets>=2.19.1->psycho_embeddings) (1.3.2)\n",
            "Requirement already satisfied: attrs>=17.3.0 in /Library/Frameworks/Python.framework/Versions/3.11/lib/python3.11/site-packages (from aiohttp->datasets>=2.19.1->psycho_embeddings) (24.2.0)\n",
            "Requirement already satisfied: frozenlist>=1.1.1 in /Library/Frameworks/Python.framework/Versions/3.11/lib/python3.11/site-packages (from aiohttp->datasets>=2.19.1->psycho_embeddings) (1.5.0)\n",
            "Requirement already satisfied: multidict<7.0,>=4.5 in /Library/Frameworks/Python.framework/Versions/3.11/lib/python3.11/site-packages (from aiohttp->datasets>=2.19.1->psycho_embeddings) (6.3.0)\n",
            "Requirement already satisfied: propcache>=0.2.0 in /Library/Frameworks/Python.framework/Versions/3.11/lib/python3.11/site-packages (from aiohttp->datasets>=2.19.1->psycho_embeddings) (0.3.1)\n",
            "Requirement already satisfied: yarl<2.0,>=1.17.0 in /Library/Frameworks/Python.framework/Versions/3.11/lib/python3.11/site-packages (from aiohttp->datasets>=2.19.1->psycho_embeddings) (1.18.3)\n",
            "Requirement already satisfied: charset-normalizer<4,>=2 in /Library/Frameworks/Python.framework/Versions/3.11/lib/python3.11/site-packages (from requests>=2.32.2->datasets>=2.19.1->psycho_embeddings) (3.3.2)\n",
            "Requirement already satisfied: idna<4,>=2.5 in /Library/Frameworks/Python.framework/Versions/3.11/lib/python3.11/site-packages (from requests>=2.32.2->datasets>=2.19.1->psycho_embeddings) (3.10)\n",
            "Requirement already satisfied: urllib3<3,>=1.21.1 in /Library/Frameworks/Python.framework/Versions/3.11/lib/python3.11/site-packages (from requests>=2.32.2->datasets>=2.19.1->psycho_embeddings) (2.2.3)\n",
            "Requirement already satisfied: certifi>=2017.4.17 in /Library/Frameworks/Python.framework/Versions/3.11/lib/python3.11/site-packages (from requests>=2.32.2->datasets>=2.19.1->psycho_embeddings) (2025.1.31)\n",
            "Requirement already satisfied: MarkupSafe>=2.0 in /Library/Frameworks/Python.framework/Versions/3.11/lib/python3.11/site-packages (from jinja2->torch->psycho_embeddings) (2.1.5)\n",
            "Requirement already satisfied: python-dateutil>=2.8.2 in /Users/bramdewaal/Library/Python/3.11/lib/python/site-packages (from pandas->datasets>=2.19.1->psycho_embeddings) (2.9.0.post0)\n",
            "Requirement already satisfied: pytz>=2020.1 in /Library/Frameworks/Python.framework/Versions/3.11/lib/python3.11/site-packages (from pandas->datasets>=2.19.1->psycho_embeddings) (2024.2)\n",
            "Requirement already satisfied: tzdata>=2022.7 in /Library/Frameworks/Python.framework/Versions/3.11/lib/python3.11/site-packages (from pandas->datasets>=2.19.1->psycho_embeddings) (2024.2)\n",
            "Requirement already satisfied: six>=1.5 in /Users/bramdewaal/Library/Python/3.11/lib/python/site-packages (from python-dateutil>=2.8.2->pandas->datasets>=2.19.1->psycho_embeddings) (1.16.0)\n",
            "Note: you may need to restart the kernel to use updated packages.\n",
            "Collecting pyreadr\n",
            "  Downloading pyreadr-0.5.3-cp311-cp311-macosx_11_0_arm64.whl.metadata (1.4 kB)\n",
            "Requirement already satisfied: pandas>=1.2.0 in /Library/Frameworks/Python.framework/Versions/3.11/lib/python3.11/site-packages (from pyreadr) (2.2.3)\n",
            "Requirement already satisfied: numpy>=1.23.2 in /Library/Frameworks/Python.framework/Versions/3.11/lib/python3.11/site-packages (from pandas>=1.2.0->pyreadr) (2.1.1)\n",
            "Requirement already satisfied: python-dateutil>=2.8.2 in /Users/bramdewaal/Library/Python/3.11/lib/python/site-packages (from pandas>=1.2.0->pyreadr) (2.9.0.post0)\n",
            "Requirement already satisfied: pytz>=2020.1 in /Library/Frameworks/Python.framework/Versions/3.11/lib/python3.11/site-packages (from pandas>=1.2.0->pyreadr) (2024.2)\n",
            "Requirement already satisfied: tzdata>=2022.7 in /Library/Frameworks/Python.framework/Versions/3.11/lib/python3.11/site-packages (from pandas>=1.2.0->pyreadr) (2024.2)\n",
            "Requirement already satisfied: six>=1.5 in /Users/bramdewaal/Library/Python/3.11/lib/python/site-packages (from python-dateutil>=2.8.2->pandas>=1.2.0->pyreadr) (1.16.0)\n",
            "Downloading pyreadr-0.5.3-cp311-cp311-macosx_11_0_arm64.whl (309 kB)\n",
            "Installing collected packages: pyreadr\n",
            "Successfully installed pyreadr-0.5.3\n",
            "Note: you may need to restart the kernel to use updated packages.\n"
          ]
        }
      ],
      "source": [
        "%pip install nltk\n",
        "%pip install fasttext\n",
        "%pip install psycho_embeddings \n",
        "%pip install pyreadr"
      ]
    },
    {
      "cell_type": "code",
      "execution_count": 25,
      "metadata": {
        "id": "ofb0L_c0AW0W"
      },
      "outputs": [],
      "source": [
        "# the solution to the assignment has been obtained using these packages.\n",
        "# you're free to use other packages though: consider this as an indication, not a prescription.\n",
        "import nltk\n",
        "import numpy as np\n",
        "import pandas as pd\n",
        "import fasttext as ft\n",
        "import pickle as pkl\n",
        "import fasttext.util\n",
        "from tqdm import tqdm\n",
        "from collections import defaultdict\n",
        "from transformers import AutoTokenizer\n",
        "from psycho_embeddings import ContextualizedEmbedder"
      ]
    },
    {
      "cell_type": "markdown",
      "metadata": {
        "id": "Ra3phcRhKuuo"
      },
      "source": [
        "**Task 1** (*10 points available, see breakdown per task below*)\n",
        "\n",
        "You should replicate the main design in the paper *Valence without meaning* by Gatti and colleagues (2024), using estimates collected for Dutch word valence to train linear regression models and apply them to predict the valence of English pseudowords from Gatti and colleagues.\n",
        "\n",
        "In detail, to train your regression models, you should use the dataset by Speed and Brysbaert (2024) containing crowd-sourced valence ratings (use the metadata to identify the relevant columns) collected for approximately 24,000 Dutch words. See the paper *Ratings of valence, arousal, happiness, anger, fear, sadness, disgust, and surprise for 24,000 Dutch words* by Speed and Brysbaert (2024).\n",
        "\n",
        "You should train a letter unigram model and a bigram model. Each model should be trained on Dutch words only.\n",
        "\n",
        "Pay attention to one issue though: pseudowords created for English may be valid words in Dutch: therefore, you should first filter the list of pseudowords against a large store of Dutch words. To do so, use the words in the Dutch prevalence lexicon available in this OSF repository: https://osf.io/9zymw/. Essentially, you need to exclude any pseudoword that happens to be a word for which a prevalence estimate is available, whatever the prevalence is.\n",
        "\n",
        "Each code block indicates how many points are available and how they are attributed."
      ]
    },
    {
      "cell_type": "code",
      "execution_count": 38,
      "metadata": {
        "id": "Hrd4EhHlAcmi"
      },
      "outputs": [
        {
          "name": "stdout",
          "output_type": "stream",
          "text": [
            "Gatti et al. pseudoword valence dataset:\n",
            "             Valence  predicted_val  predicted_valL  predicted_valL_BI  \\\n",
            "rownames                                                                 \n",
            "aardvark        6.26       6.392012        4.920180           6.410768   \n",
            "abalone         5.30       4.756492        5.284912           5.115389   \n",
            "abandon         2.84       4.260055        5.001226           5.479860   \n",
            "abandonment     2.63       4.196807        5.022504           5.334364   \n",
            "abbey           5.85       6.123953        5.147159           5.162931   \n",
            "\n",
            "             predicted_valDIM  predicted_valL_DIM  predicted_valBI  \\\n",
            "rownames                                                             \n",
            "aardvark             5.772722            5.774341         6.410768   \n",
            "abalone              4.728264            4.858120         5.115389   \n",
            "abandon              3.978241            3.987623         5.479860   \n",
            "abandonment          3.833330            3.828077         5.334364   \n",
            "abbey                6.064834            6.094675         5.162931   \n",
            "\n",
            "             predicted_valBI_DIM  \n",
            "rownames                          \n",
            "aardvark                6.392012  \n",
            "abalone                 4.756492  \n",
            "abandon                 4.260055  \n",
            "abandonment             4.196807  \n",
            "abbey                   6.123953  \n",
            "\n",
            "Speed & Brysbaert Dutch valence dataset:\n",
            "      word  n.obs  irt.prevalence  z.irt.prevalence  prevalence  z.prevalence\n",
            "0  T-shirt    324        0.986622          2.215053    0.978395      1.689888\n",
            "1    aagje    303        0.907405          1.324941    0.877888      1.075808\n",
            "2     aagt    324        0.169817         -0.954888    0.188272     -0.827920\n",
            "3      aai    335        0.993290          2.472451    0.988060      1.794794\n",
            "4  aaibaar    333        0.996284          2.676802    0.990991      1.830889\n"
          ]
        }
      ],
      "source": [
        "# read in the pseudowords from Gatti and colleagues, \n",
        "# as well as the valence ratings for 24,000 Dutch words from Speed and Brysbaert (2024)\n",
        "# show the first 5 lines of each dataset.\n",
        "# 1 point for identifying the correct files and correctly loading their content\n",
        "\n",
        "import pyreadr\n",
        "import pandas as pd\n",
        "\n",
        "# Load the Gatti et al. (2024) pseudoword valence dataset from .Rdata\n",
        "gatti_result = pyreadr.read_r(\"/Users/bramdewaal/Desktop/Uni/VSC/CL/Group Assignment/data/data_pseudovalence.Rdata\")\n",
        "gatti_df = list(gatti_result.values())[0]\n",
        "\n",
        "print(\"Gatti et al. pseudoword valence dataset:\")\n",
        "print(gatti_df.head())\n",
        "\n",
        "# Load the Speed & Brysbaert (2024) Dutch word valence dataset from .csv\n",
        "\n",
        "speed_df = pd.read_csv(\"/Users/bramdewaal/Desktop/Uni/VSC/CL/Group Assignment/data/prevalence_netherlands.csv\", sep=\"\\t\")\n",
        "\n",
        "\n",
        "print(\"\\nSpeed & Brysbaert Dutch valence dataset:\")\n",
        "print(speed_df.head())\n",
        "\n",
        "\n",
        "\n"
      ]
    },
    {
      "cell_type": "code",
      "execution_count": 35,
      "metadata": {},
      "outputs": [
        {
          "name": "stdout",
          "output_type": "stream",
          "text": [
            "Index(['word', 'n.obs', 'irt.prevalence', 'z.irt.prevalence', 'prevalence',\n",
            "       'z.prevalence'],\n",
            "      dtype='object')\n"
          ]
        }
      ],
      "source": [
        "print(speed_df.columns)\n"
      ]
    },
    {
      "cell_type": "code",
      "execution_count": 37,
      "metadata": {
        "id": "As4XV-LQPbyH"
      },
      "outputs": [
        {
          "name": "stdout",
          "output_type": "stream",
          "text": [
            "Pseudowords filtered out (found in Dutch lexicon):\n",
            "['abandon', 'abdomen', 'abject', 'abracadabra', 'abrupt', 'absence', 'absent', 'abstract', 'absurd', 'abundant', 'accent', 'accept', 'accident', 'account', 'accountant', 'ace', 'acid', 'acne', 'acquit', 'acre', 'act', 'activist', 'actor', 'ad', 'adder', 'addict', 'adept', 'adolescent', 'adrenaline', 'adult', 'advocate', 'aerobics', 'affect', 'affidavit', 'affront', 'aftershave', 'agenda', 'agent', 'aids', 'air', 'airbag', 'airstrip', 'alarm', 'albino', 'album', 'alcohol', 'alert', 'alfalfa', 'algebra', 'alias', 'alibi', 'allegro', 'alligator', 'allure', 'alpine', 'alter', 'altimeter', 'alumnus', 'amaretto', 'amateur', 'amber', 'ambrosia', 'ambulance', 'ammonia', 'ammonium', 'amulet', 'amuse', 'amusement', 'anaconda', 'anagram', 'anarchist', 'angel', 'angina', 'angora', 'angst', 'anklet', 'annex', 'anti', 'antichrist', 'anus', 'aorta', 'apache', 'apex', 'apparent', 'appendage', 'appendicitis', 'appendix', 'appetizer', 'aquarium', 'arcade', 'architect', 'area', 'arena', 'argument', 'ark', 'arm', 'armada', 'aroma', 'arrangement', 'array', 'arrest', 'arrogant', 'artwork', 'ascendant', 'asparagus', 'aspect', 'assessment', 'assist', 'asterisk', 'astronaut', 'atlas', 'atrium', 'attest', 'attitude', 'audio', 'audit', 'auditor', 'auditorium', 'aura', 'auto', 'avenue', 'avocado', 'babe', 'baby', 'babysit', 'babysitter', 'bachelor', 'back', 'backbone', 'backgammon', 'background', 'backhand', 'bacon', 'bad', 'badge', 'bagel', 'baggy', 'ballad', 'ballast', 'ballerina', 'ballet', 'ballpoint', 'ballroom', 'bam', 'ban', 'band', 'bandage', 'bang', 'banjo', 'bank', 'bar', 'barbecue', 'bard', 'barium', 'bark', 'barman', 'barometer', 'baron', 'barracuda', 'barrage', 'barrel', 'barricade', 'bartender', 'base', 'baseball', 'baseline', 'basement', 'basis', 'basket', 'basketball', 'bat', 'batch', 'baton', 'batter', 'battle', 'bazaar', 'bazooka', 'beat', 'beatnik', 'beauty', 'bebop', 'bed', 'bedding', 'bedpan', 'beef', 'beer', 'begin', 'beginner', 'beige', 'belligerent', 'belt', 'beryllium', 'bestseller', 'bias', 'bib', 'biceps', 'bidder', 'big', 'bigot', 'biker', 'bikini', 'billboard', 'bimbo', 'binder', 'binding', 'bingo', 'bio', 'birdie', 'biscuit', 'bistro', 'bit', 'bitch', 'bitter', 'blackjack', 'bladder', 'blank', 'blanket', 'blaster', 'blazer', 'blender', 'bleu', 'blind', 'blink', 'blizzard', 'blockbuster', 'blog', 'blond', 'blonde', 'blouse', 'blow', 'blowjob', 'blubber', 'bluegrass', 'blues', 'blunder', 'blunt', 'boa', 'board', 'bode', 'bodega', 'body', 'bodyguard', 'bogey', 'boiler', 'bonbon', 'bondage', 'bondsman', 'bonnet', 'bonsai', 'bonus', 'boogie', 'bookmaker', 'boom', 'boon', 'boost', 'booster', 'boot', 'bootleg', 'boots', 'bopper', 'border', 'boring', 'bottleneck', 'bouquet', 'bourbon', 'bout', 'bowl', 'bowler', 'bowling', 'box', 'boxer', 'boy', 'bracelet', 'brand', 'brandy', 'brat', 'break', 'breed', 'bridge', 'brief', 'briefing', 'brigade', 'brink', 'broccoli', 'brochure', 'broker', 'bromide', 'brood', 'broom', 'brunch', 'brunette', 'buddy', 'budget', 'buffer', 'buffet', 'bug', 'buggy', 'building', 'bulk', 'bulldozer', 'bullet', 'bulletin', 'bullshit', 'bumper', 'bun', 'bungalow', 'bunker', 'bunny', 'bureau', 'burger', 'burrito', 'bus', 'business', 'butler', 'butterfly', 'button', 'buzzer', 'bypass', 'cabaret', 'cabernet', 'cache', 'cactus', 'caddie', 'cadet', 'cake', 'cakewalk', 'calcium', 'calculator', 'calculus', 'camcorder', 'camel', 'cameo', 'camera', 'cameraman', 'camouflage', 'camp', 'camper', 'camping', 'campus', 'cannabis', 'canon', 'canvas', 'canyon', 'cap', 'cappuccino', 'capsule', 'captain', 'caramel', 'caravan', 'carbon', 'cardigan', 'cargo', 'carpool', 'carrier', 'cartoon', 'cartridge', 'cascade', 'case', 'cash', 'casino', 'cassette', 'cast', 'casual', 'catamaran', 'catcher', 'catchy', 'catwalk', 'cavalier', 'celebrity', 'cellist', 'cello', 'celluloid', 'cement', 'censor', 'census', 'cent', 'center', 'centerfold', 'century', 'cervix', 'chalet', 'champagne', 'chance', 'chant', 'chaos', 'chaperon', 'charade', 'charge', 'charisma', 'charlatan', 'charter', 'chassis', 'chat', 'chateau', 'chauffeur', 'chauvinist', 'check', 'checklist', 'checkpoint', 'cheerleader', 'cheeseburger', 'chef', 'chemo', 'cherub', 'chic', 'chick', 'chiffon', 'chili', 'chimp', 'chinchilla', 'chip', 'chipper', 'chiropractor', 'chloride', 'chloroform', 'choke', 'cholera', 'cholesterol', 'chopper', 'chorus', 'christen', 'chronic', 'chutney', 'cider', 'cinema', 'circuit', 'circus', 'citadel', 'citrus', 'city', 'claim', 'clairvoyant', 'clan', 'classic', 'clean', 'cleaner', 'click', 'climax', 'clinch', 'clinic', 'clip', 'clipper', 'clique', 'clitoris', 'close', 'closet', 'clown', 'club', 'cluster', 'coach', 'coaster', 'coat', 'coating', 'coax', 'cobra', 'cockpit', 'cocktail', 'code', 'cognac', 'coherent', 'coke', 'cola', 'collage', 'collector', 'college', 'collie', 'column', 'columnist', 'coma', 'combine', 'combo', 'comeback', 'comedy', 'comfort', 'commandant', 'commando', 'commentator', 'commerce', 'commercial', 'commodity', 'commodore', 'commune', 'communist', 'community', 'compact', 'competent', 'complement', 'complex', 'compliment', 'component', 'composer', 'compost', 'compressor', 'computer', 'concept', 'concern', 'concert', 'concerto', 'concubine', 'conditioner', 'condor', 'conductor', 'conference', 'confetti', 'conflict', 'conform', 'conga', 'consensus', 'consent', 'consistent', 'console', 'constant', 'construct', 'consul', 'consult', 'consultant', 'contact', 'container', 'content', 'contest', 'context', 'continent', 'contingent', 'continue', 'contract', 'contrast', 'convent', 'convertible', 'cooker', 'cookie', 'cool', 'copyright', 'cordon', 'corduroy', 'corner', 'cornflakes', 'corps', 'correct', 'correspondent', 'corridor', 'corrupt', 'corsage', 'cortex', 'cortisone', 'cottage', 'counseling', 'counselor', 'countdown', 'counter', 'country', 'county', 'coup', 'coupe', 'coupon', 'courage', 'cover', 'coverage', 'cowboy', 'cowgirl', 'coyote', 'crack', 'cracker', 'cranberry', 'crank', 'crash', 'crawl', 'crayon', 'crazy', 'credit', 'crescendo', 'cretin', 'crew', 'cricket', 'crime', 'crisis', 'croissant', 'croquet', 'cross', 'crucifix', 'cruise', 'cruiser', 'crypt', 'cue', 'cuisine', 'cult', 'culture', 'cup', 'cupcake', 'curator', 'curling', 'curriculum', 'curry', 'curve', 'custard', 'cutter', 'cyanide', 'cyberspace', 'dam', 'dame', 'damp', 'damper', 'dandy', 'dank', 'darkroom', 'dart', 'dashboard', 'database', 'date', 'deadline', 'deal', 'dealer', 'debacle', 'debutante', 'decade', 'decadent', 'decent', 'decimeter', 'deck', 'decoder', 'decor', 'decorum', 'deed', 'deejay', 'default', 'defect', 'defibrillator', 'deficit', 'delinquent', 'delirium', 'delta', 'demo', 'demon', 'den', 'denim', 'dentist', 'deodorant', 'depot', 'descendant', 'design', 'designer', 'desk', 'desperado', 'dessert', 'detail', 'detective', 'detector', 'detergent', 'detonator', 'detriment', 'deuce', 'deviant', 'device', 'diabetes', 'diagnose', 'diagram', 'dialect', 'diameter', 'dictator', 'die', 'diesel', 'different', 'diffuse', 'dildo', 'dilemma', 'diligence', 'diligent', 'diner', 'dinghy', 'dingo', 'diocese', 'dioxide', 'dip', 'diploma', 'direct', 'directory', 'discipline', 'disco', 'discount', 'discreet', 'disk', 'dispenser', 'display', 'district', 'diva', 'dizzy', 'do', 'doctor', 'doctrine', 'document', 'dodo', 'dog', 'dollar', 'dominant', 'dominion', 'domino', 'donkey', 'donor', 'doom', 'door', 'dopamine', 'dope', 'dossier', 'dot', 'douche', 'dove', 'downer', 'download', 'drab', 'dragon', 'drain', 'drainage', 'drama', 'draw', 'drift', 'drifter', 'drink', 'drinker', 'drive', 'driver', 'drop', 'drug', 'drugs', 'drum', 'drummer', 'duel', 'duet', 'duffel', 'dummy', 'dump', 'dunk', 'duo', 'dupe', 'duplex', 'duster', 'dynamo', 'echelon', 'echo', 'ecstasy', 'editor', 'effect', 'efficiency', 'egghead', 'ego', 'elegant', 'element', 'elevator', 'elf', 'elite', 'elixir', 'elk', 'eloquent', 'email', 'embargo', 'embryo', 'emerald', 'eminent', 'empire', 'employee', 'enamel', 'enchilada', 'end', 'engagement', 'engineering', 'enigma', 'ensemble', 'enter', 'entertainer', 'entertainment', 'entourage', 'entree', 'entrepreneur', 'episode', 'equalizer', 'equator', 'equivalent', 'era', 'ergo', 'erotica', 'escape', 'escort', 'espresso', 'essay', 'essence', 'ether', 'etiquette', 'eucalyptus', 'euro', 'evident', 'ex', 'exact', 'excellent', 'excelsior', 'excrement', 'exit', 'exodus', 'exorcist', 'experiment', 'expert', 'expertise', 'expo', 'export', 'exposure', 'extra', 'extract', 'extravagant', 'eyeliner', 'factor', 'fade', 'fair', 'fairway', 'fake', 'falafel', 'fan', 'fancy', 'fanfare', 'fantasy', 'farce', 'farm', 'farmer', 'fascist', 'fashionable', 'fat', 'faun', 'fauna', 'fax', 'feature', 'feces', 'fee', 'feedback', 'feeder', 'feeling', 'fellow', 'feminist', 'ferry', 'festival', 'fiancee', 'fiasco', 'fiber', 'fiction', 'fielder', 'file', 'filet', 'film', 'filmmaker', 'filter', 'finale', 'finalist', 'fine', 'finesse', 'finish', 'firewall', 'firmament', 'fit', 'fitness', 'fjord', 'flagrant', 'flair', 'flamboyant', 'flamingo', 'flan', 'flank', 'flap', 'flash', 'flashback', 'flashy', 'flat', 'fleece', 'flex', 'flip', 'flipper', 'flirt', 'flop', 'floppy', 'florist', 'flow', 'fluorescent', 'flux', 'fly', 'flyer', 'focus', 'folder', 'folk', 'folklore', 'fond', 'fondue', 'font', 'forceps', 'form', 'format', 'forte', 'forum', 'fox', 'foxtrot', 'foyer', 'fragment', 'frame', 'franc', 'franchise', 'freak', 'freelance', 'freelancer', 'freestyle', 'frequent', 'fret', 'frisbee', 'fruit', 'fuchsia', 'fun', 'fundraising', 'fungus', 'funk', 'funky', 'fusion', 'futon', 'future', 'gadget', 'gag', 'gaga', 'gal', 'gala', 'gallon', 'game', 'gamma', 'gander', 'gang', 'gangster', 'gap', 'gaping', 'garage', 'gas', 'gasoline', 'gate', 'gateway', 'gay', 'gazelle', 'geek', 'geisha', 'gel', 'gelding', 'gender', 'generator', 'genie', 'genius', 'genocide', 'genre', 'gentleman', 'gerbil', 'gift', 'gig', 'gigolo', 'gimmick', 'gin', 'ginseng', 'giraffe', 'gist', 'glad', 'gladiator', 'glamour', 'glee', 'glimmer', 'glitter', 'globe', 'glossy', 'glucose', 'go', 'goal', 'goalie', 'god', 'godfather', 'gold', 'golden', 'golf', 'golfer', 'gondola', 'goodwill', 'gorilla', 'gospel', 'gossip', 'gothic', 'goulash', 'gourmet', 'graffiti', 'graft', 'gram', 'grandeur', 'grapefruit', 'gravel', 'green', 'grief', 'grieve', 'grill', 'grim', 'grind', 'gringo', 'grip', 'grit', 'grizzly', 'groggy', 'groovy', 'groupie', 'guacamole', 'guano', 'guerrilla', 'guillotine', 'gulp', 'gum', 'gust', 'gut', 'gym', 'gymnasium', 'gymnast', 'habitat', 'hacker', 'haiku', 'hairspray', 'halftime', 'hall', 'halo', 'halt', 'halter', 'ham', 'hamburger', 'hamster', 'hand', 'handicap', 'hang', 'hangar', 'hanger', 'happen', 'happy', 'hard', 'hardcore', 'harden', 'hardware', 'hare', 'harem', 'hark', 'harmonica', 'harp', 'hater', 'have', 'haven', 'hazard', 'headline', 'headliner', 'headset', 'healer', 'healing', 'heat', 'heavy', 'heel', 'helium', 'helix', 'helper', 'hem', 'hen', 'hepatitis', 'hernia', 'herpes', 'hertz', 'hetero', 'hickory', 'high', 'hinder', 'hint', 'hip', 'hippie', 'hit', 'hobby', 'hobo', 'hockey', 'hoe', 'hole', 'hologram', 'holster', 'home', 'homo', 'honk', 'hooligan', 'hoop', 'hop', 'hope', 'horde', 'horizon', 'horror', 'hospice', 'host', 'hostel', 'hostess', 'hot', 'hotdog', 'hotel', 'hotline', 'house', 'hovercraft', 'hub', 'hulk', 'humbug', 'hummer', 'humor', 'husky', 'hut', 'hydrant', 'hyena', 'hymen', 'hype', 'hyper', 'hypothalamus', 'ibuprofen', 'icing', 'icon', 'idealist', 'ignorant', 'image', 'immigrant', 'imminent', 'impact', 'impediment', 'imperfect', 'imperialist', 'impertinent', 'import', 'important', 'impotent', 'imprint', 'impromptu', 'incentive', 'incest', 'inch', 'incident', 'incoherent', 'incompetent', 'inconsistent', 'incorrect', 'incubator', 'indecent', 'indicator', 'indifferent', 'indirect', 'indiscreet', 'indoor', 'indulgent', 'infant', 'inferno', 'influenza', 'info', 'informant', 'inherent', 'inning', 'innocent', 'input', 'insect', 'insecticide', 'insider', 'insolent', 'instant', 'instinct', 'instrument', 'insult', 'intact', 'intake', 'intellect', 'intelligent', 'intercom', 'interest', 'interface', 'interim', 'intern', 'internet', 'interval', 'interview', 'interviewer', 'intolerant', 'intro', 'invite', 'ion', 'iris', 'irrelevant', 'issue', 'item', 'jacket', 'jackpot', 'jade', 'jaguar', 'jam', 'jamboree', 'jammer', 'jargon', 'jazz', 'jazzy', 'jeans', 'jeep', 'jet', 'jihad', 'jingle', 'jive', 'job', 'jockey', 'jogger', 'joint', 'joke', 'joker', 'journalist', 'jubilee', 'judo', 'jukebox', 'jumbo', 'jumper', 'jumpsuit', 'jungle', 'junior', 'junk', 'junkie', 'jury', 'kamikaze', 'kappa', 'karaoke', 'karate', 'karma', 'kebab', 'keel', 'keen', 'keep', 'keeper', 'keg', 'kelp', 'kennel', 'ketchup', 'keyboard', 'kick', 'kidnapper', 'kidnapping', 'killer', 'kilo', 'kilometer', 'kilt', 'kimono', 'kin', 'kind', 'kink', 'kinky', 'kiosk', 'kit', 'kitten', 'kiwi', 'knot', 'koala', 'kook', 'kumquat', 'lab', 'label', 'lacrosse', 'lactose', 'ladder', 'lady', 'ladylike', 'lag', 'lager', 'lamp', 'land', 'landing', 'lap', 'lapel', 'laptop', 'large', 'laryngitis', 'larynx', 'laser', 'lasso', 'latent', 'latex', 'latitude', 'latrine', 'lava', 'leader', 'league', 'lease', 'leg', 'lego', 'lens', 'lessen', 'letter', 'level', 'lever', 'liaison', 'libel', 'libido', 'lid', 'lifestyle', 'lift', 'ligament', 'limbo', 'limit', 'limo', 'limousine', 'lingerie', 'link', 'linoleum', 'lint', 'lip', 'lipstick', 'lira', 'list', 'listing', 'liter', 'lithium', 'live', 'loafer', 'lobby', 'lobbyist', 'locker', 'loco', 'loft', 'log', 'logo', 'look', 'loom', 'loon', 'loop', 'loot', 'lord', 'loser', 'lotion', 'lotto', 'lotus', 'lounge', 'lover', 'lunch', 'lunchbox', 'lust', 'lycra', 'lyrics', 'macaroni', 'mach', 'machete', 'machine', 'macho', 'macro', 'madam', 'maestro', 'magazine', 'magenta', 'magnesium', 'magnitude', 'magnolia', 'mahjong', 'mail', 'mailbox', 'mailing', 'mainframe', 'mainstream', 'major', 'maker', 'malaria', 'mall', 'malt', 'mama', 'man', 'management', 'manager', 'mango', 'manicure', 'manifest', 'mannequin', 'mantel', 'mantra', 'manuscript', 'map', 'marathon', 'mare', 'margarine', 'marine', 'marker', 'marketing', 'martini', 'mascara', 'masochist', 'massacre', 'massage', 'masseur', 'masseuse', 'mast', 'master', 'mat', 'matador', 'match', 'mate', 'matinee', 'matrix', 'matter', 'mausoleum', 'mauve', 'maximum', 'mediocre', 'medium', 'medley', 'meet', 'meeting', 'mega', 'melodrama', 'meltdown', 'memento', 'memo', 'memorabilia', 'memorandum', 'meningitis', 'menthol', 'mentor', 'menu', 'merengue', 'meringue', 'mescaline', 'mess', 'metallic', 'meter', 'metropolis', 'mezzanine', 'micro', 'microchip', 'microfilm', 'microwave', 'migraine', 'mild', 'militant', 'military', 'milkshake', 'millennium', 'milligram', 'millimeter', 'mime', 'mini', 'minibus', 'minimum', 'minister', 'minivan', 'mink', 'minor', 'miss', 'mist', 'mistletoe', 'mix', 'mixer', 'mixture', 'mobile', 'mode', 'model', 'modem', 'modern', 'modest', 'module', 'molecule', 'molest', 'mom', 'moment', 'momentum', 'monarch', 'monitor', 'mono', 'monopoly', 'monsieur', 'monster', 'montage', 'monument', 'moor', 'moot', 'mop', 'mores', 'motel', 'motor', 'motto', 'mousse', 'moustache', 'move', 'mozzarella', 'mud', 'muffin', 'mug', 'multimedia', 'multiple', 'multiplex', 'mum', 'museum', 'musical', 'musket', 'must', 'mustang', 'mutant', 'name', 'nanny', 'nanometer', 'nap', 'napalm', 'nasty', 'nautilus', 'navel', 'navigator', 'nectar', 'neon', 'nerd', 'nest', 'net', 'neutron', 'niche', 'nicotine', 'nimrod', 'ninja', 'nipper', 'nitwit', 'node', 'nonchalant', 'norm', 'notebook', 'novice', 'nuance', 'nucleus', 'nudist', 'nurse', 'nut', 'nylon', 'oasis', 'object', 'observant', 'occasion', 'occult', 'octopus', 'ode', 'offer', 'office', 'official', 'offset', 'offshore', 'okra', 'omega', 'omelet', 'omen', 'op', 'open', 'opener', 'opening', 'opera', 'operator', 'opium', 'opponent', 'optimist', 'optimum', 'order', 'oregano', 'organist', 'organizer', 'origami', 'ornament', 'orthodontist', 'orthodox', 'otter', 'ounce', 'outcast', 'outdoor', 'outfit', 'outlaw', 'outlook', 'output', 'outsider', 'oven', 'overall', 'overkill', 'overlap', 'oversized', 'oxide', 'pacemaker', 'pacifist', 'pack', 'pact', 'pad', 'page', 'pager', 'paintball', 'pair', 'pal', 'pallet', 'palm', 'pamper', 'pan', 'pancake', 'pancreas', 'panda', 'pandemonium', 'panel', 'pang', 'pantheon', 'pantry', 'panty', 'pap', 'papa', 'paper', 'paperback', 'paprika', 'par', 'parachute', 'parade', 'paradox', 'parallel', 'paranoia', 'parasol', 'pardon', 'park', 'parka', 'parking', 'part', 'participant', 'partner', 'party', 'pass', 'passage', 'password', 'pasta', 'pastor', 'pastrami', 'patch', 'patent', 'patience', 'patio', 'patriot', 'patron', 'pauper', 'peanuts', 'pedicure', 'pedigree', 'pee', 'peel', 'peer', 'pen', 'penalty', 'pendant', 'penis', 'penitent', 'penny', 'pension', 'pentagram', 'penthouse', 'pep', 'peptide', 'percent', 'percentage', 'perfect', 'perfectionist', 'performance', 'performer', 'perimeter', 'perk', 'perm', 'permanent', 'peroxide', 'persistent', 'pertinent', 'pessimist', 'pest', 'pester', 'pesto', 'pet', 'petroleum', 'petticoat', 'petunia', 'peyote', 'pi', 'pianist', 'piano', 'piccolo', 'picture', 'pier', 'pigskin', 'pin', 'ping', 'pink', 'pint', 'piranha', 'pisser', 'piston', 'pit', 'pita', 'pitcher', 'pizza', 'pizzeria', 'placebo', 'placement', 'placenta', 'plaid', 'plan', 'planetarium', 'plank', 'plankton', 'planner', 'plant', 'planter', 'plaque', 'plasma', 'plastic', 'plateau', 'platform', 'plating', 'playa', 'playback', 'playboy', 'player', 'plop', 'plot', 'plug', 'plutonium', 'pocket', 'podium', 'poet', 'pointer', 'poker', 'polio', 'polka', 'poll', 'pollen', 'polo', 'poltergeist', 'polyester', 'pomp', 'poncho', 'pond', 'ponder', 'pony', 'pool', 'pop', 'popcorn', 'pope', 'porno', 'port', 'portable', 'portal', 'portfolio', 'pose', 'post', 'poster', 'postman', 'pot', 'potent', 'potpourri', 'power', 'practical', 'prairie', 'precedent', 'predator', 'prefect', 'prefix', 'pregnant', 'prelude', 'premier', 'premium', 'present', 'president', 'prestige', 'pretext', 'pretzel', 'preview', 'prima', 'prime', 'primer', 'print', 'printer', 'prior', 'privacy', 'privilege', 'pro', 'procedure', 'processor', 'producer', 'product', 'profane', 'professional', 'professor', 'profiler', 'program', 'project', 'projector', 'promenade', 'prominent', 'promo', 'promotion', 'prompt', 'prop', 'propaganda', 'propeller', 'proper', 'prospect', 'prospectus', 'protector', 'protest', 'protestant', 'protocol', 'proton', 'prototype', 'prove', 'provider', 'proxy', 'prudent', 'prune', 'psalm', 'psoriasis', 'psyche', 'pub', 'publicist', 'puck', 'pudding', 'pull', 'pulp', 'pulsar', 'pump', 'punch', 'punk', 'punt', 'pup', 'pupil', 'puppy', 'pus', 'push', 'pusher', 'put', 'putt', 'putter', 'pylon', 'python', 'quad', 'quasi', 'query', 'queue', 'quiche', 'quilt', 'quintet', 'quiz', 'quota', 'quote', 'rabbi', 'race', 'racer', 'racist', 'racket', 'radar', 'radiant', 'radiator', 'radio', 'radium', 'radius', 'rag', 'rage', 'ragtime', 'raid', 'raider', 'rail', 'rake', 'rally', 'ram', 'ramp', 'ranch', 'rancher', 'random', 'range', 'rank', 'ranking', 'rap', 'rapper', 'rapport', 'rat', 'rating', 'ratio', 'ravage', 'raven', 'ravioli', 'reactor', 'reader', 'ready', 'realist', 'rebel', 'rebound', 'receiver', 'recent', 'receptionist', 'receptor', 'recital', 'record', 'recorder', 'recovery', 'recruiter', 'rectum', 'recycling', 'redundant', 'reef', 'reek', 'reel', 'referee', 'reflex', 'reform', 'refuge', 'regatta', 'reggae', 'regime', 'regiment', 'register', 'regulator', 'rein', 'relax', 'relaxed', 'release', 'relevant', 'remake', 'reminder', 'remover', 'repel', 'repertoire', 'replay', 'replica', 'report', 'reporter', 'research', 'reserve', 'reservoir', 'resort', 'resource', 'respect', 'response', 'rest', 'restaurant', 'retina', 'retro', 'return', 'reverence', 'review', 'revival', 'revolver', 'revue', 'rib', 'ride', 'riff', 'ring', 'rink', 'ripper', 'risotto', 'rite', 'roadblock', 'roadie', 'rob', 'robber', 'robe', 'robot', 'rock', 'rocker', 'rodeo', 'roe', 'roller', 'roman', 'romance', 'romp', 'roof', 'rook', 'room', 'rooms', 'rooster', 'root', 'rot', 'rotor', 'rotten', 'rouge', 'roulette', 'route', 'routine', 'royalty', 'rubber', 'rug', 'rugby', 'ruin', 'ruling', 'rum', 'rumba', 'rumble', 'run', 'runner', 'rush', 'rust', 'rut', 'sabbatical', 'sabotage', 'saboteur', 'sacrament', 'sadist', 'safari', 'safe', 'saga', 'sage', 'sake', 'salami', 'sale', 'saline', 'salmonella', 'salon', 'saloon', 'salsa', 'samba', 'sample', 'sanatorium', 'sandwich', 'sap', 'sardine', 'sashimi', 'sassafras', 'satire', 'sauna', 'sax', 'scalp', 'scalpel', 'scampi', 'scan', 'scanner', 'scenario', 'scene', 'scepter', 'schilling', 'schnitzel', 'school', 'scone', 'scoop', 'scooter', 'scope', 'score', 'scorer', 'scotch', 'scout', 'scrabble', 'scrambler', 'screening', 'scrimmage', 'script', 'scrotum', 'scrub', 'sec', 'sector', 'security', 'sedan', 'sediment', 'segment', 'select', 'selenium', 'semester', 'seminar', 'senator', 'senior', 'sensor', 'sentiment', 'sequel', 'serenade', 'sergeant', 'serpent', 'serum', 'serve', 'server', 'service', 'set', 'sexy', 'shabby', 'shag', 'shaker', 'shampoo', 'shanty', 'shawl', 'sheet', 'shell', 'shelter', 'sheriff', 'sherry', 'shift', 'shilling', 'shimmy', 'shirt', 'shit', 'shock', 'shocking', 'shop', 'shopper', 'short', 'shorts', 'shot', 'shotgun', 'shovel', 'show', 'showroom', 'shrapnel', 'shunt', 'shutter', 'shuttle', 'sidecar', 'sidekick', 'sightseeing', 'sigma', 'significant', 'silicone', 'silo', 'simulator', 'single', 'sinister', 'sinus', 'sip', 'sister', 'sitcom', 'site', 'ska', 'skateboard', 'skater', 'skeet', 'sketch', 'ski', 'skin', 'skinny', 'skunk', 'skyline', 'slab', 'slag', 'slang', 'slap', 'slash', 'sleep', 'sleet', 'slice', 'slim', 'slip', 'slipper', 'slobber', 'slogan', 'slop', 'slot', 'slum', 'slump', 'slurp', 'smack', 'smart', 'smarten', 'smash', 'smiley', 'smog', 'smooth', 'snack', 'snap', 'snapper', 'snapshot', 'sneaker', 'sneer', 'snip', 'snob', 'snorkel', 'snot', 'snowboard', 'snowboarder', 'soap', 'sober', 'socialist', 'society', 'soda', 'sofa', 'soft', 'soften', 'software', 'soiree', 'solarium', 'solo', 'solvent', 'sonar', 'song', 'sonnet', 'sorry', 'soul', 'sound', 'soundtrack', 'souvenir', 'spa', 'spade', 'spaghetti', 'spam', 'span', 'spar', 'speaker', 'special', 'specialist', 'species', 'specimen', 'spectator', 'spectrum', 'speech', 'speed', 'speedway', 'spelling', 'spike', 'spin', 'spinner', 'spinster', 'spirit', 'spiritual', 'spit', 'spleen', 'splinter', 'split', 'sponsor', 'spook', 'sport', 'spot', 'spotlight', 'spotter', 'spray', 'spread', 'spring', 'sprinkler', 'sprint', 'squadron', 'square', 'squash', 'squaw', 'stadium', 'stag', 'stage', 'stalker', 'stamp', 'stand', 'star', 'start', 'starter', 'state', 'statement', 'station', 'status', 'steak', 'steel', 'stem', 'step', 'steps', 'stereo', 'stereotype', 'stern', 'steward', 'stewardess', 'stick', 'sticker', 'stigma', 'stimulus', 'stinker', 'stock', 'stomp', 'stool', 'stoop', 'stop', 'stopper', 'stopwatch', 'store', 'storm', 'stout', 'straddle', 'strand', 'strapless', 'stress', 'stretch', 'stretcher', 'strike', 'string', 'strip', 'stripper', 'striptease', 'student', 'studio', 'stuff', 'stunt', 'stuntman', 'stutter', 'styling', 'stylist', 'suave', 'sub', 'subject', 'succubus', 'succulent', 'suite', 'sullen', 'sultan', 'sumo', 'super', 'superior', 'superman', 'supermodel', 'supernova', 'superstar', 'supervisor', 'supplement', 'support', 'supporter', 'surf', 'surfer', 'surplus', 'surprise', 'surveillance', 'survival', 'sushi', 'suspect', 'suspense', 'swami', 'swap', 'swastika', 'sweater', 'sweatshirt', 'sweetie', 'swing', 'switch', 'syllabus', 'symposium', 'synthesizer', 'tab', 'tabasco', 'tablet', 'tabloid', 'tackle', 'taco', 'tact', 'tag', 'talent', 'talisman', 'talk', 'talon', 'tampon', 'tang', 'tango', 'tank', 'tanker', 'tap', 'tape', 'tapioca', 'taps', 'tarantula', 'target', 'tarmac', 'tarot', 'taupe', 'taxi', 'team', 'teamwork', 'techno', 'teen', 'teenager', 'telegram', 'teller', 'temperament', 'template', 'tempo', 'ten', 'tenant', 'tender', 'tennis', 'tenor', 'tent', 'tequila', 'term', 'terminal', 'terrorist', 'test', 'testament', 'tetanus', 'theater', 'thermometer', 'thermos', 'thesis', 'thriller', 'tiara', 'tic', 'ticket', 'tier', 'time', 'timer', 'timing', 'tin', 'tip', 'tipsy', 'tissue', 'titan', 'titanium', 'toast', 'toaster', 'toe', 'toffee', 'tofu', 'toga', 'toilet', 'token', 'tolerant', 'tomahawk', 'ton', 'toner', 'tonic', 'tool', 'toot', 'top', 'topic', 'topless', 'torment', 'tornado', 'torpedo', 'torso', 'toss', 'tot', 'totem', 'tour', 'tourniquet', 'trachea', 'track', 'tractor', 'trail', 'trailer', 'train', 'trainee', 'trainer', 'training', 'tram', 'tramp', 'trampoline', 'trance', 'transcendent', 'transcript', 'transfer', 'transistor', 'transit', 'transport', 'trap', 'trapeze', 'trapper', 'trash', 'trauma', 'traverse', 'tree', 'tremor', 'trend', 'trendy', 'triage', 'trial', 'tribal', 'tribune', 'tricky', 'trimester', 'trio', 'trip', 'trivia', 'trolley', 'trombone', 'troop', 'truck', 'trucker', 'trust', 'trustee', 'tsunami', 'tuba', 'tube', 'tumor', 'tune', 'tunnel', 'turban', 'turbine', 'turbo', 'turbulent', 'turf', 'turquoise', 'tutu', 'tv', 'tweed', 'tweet', 'twist', 'twister', 'tycoon', 'type', 'typist', 'ultimatum', 'ultraviolet', 'umpire', 'undercover', 'underdog', 'underground', 'understatement', 'unfair', 'uniform', 'unit', 'unplugged', 'update', 'upgrade', 'upper', 'uppercut', 'uranium', 'urgent', 'urine', 'urn', 'uterus', 'utility', 'vacant', 'vaccine', 'vagina', 'vale', 'valium', 'valve', 'vamp', 'van', 'varsity', 'vast', 'vat', 'vector', 'veer', 'veil', 'velvet', 'vendetta', 'vent', 'ventilator', 'ventriloquist', 'venture', 'veranda', 'verdict', 'vermouth', 'vest', 'vet', 'veto', 'vibrator', 'video', 'videotape', 'view', 'viewer', 'vigilant', 'vigilante', 'villa', 'vintage', 'vinyl', 'violent', 'violet', 'virus', 'visa', 'voicemail', 'volley', 'voltage', 'volume', 'voodoo', 'voucher', 'voyeur', 'wad', 'wagon', 'wake', 'walrus', 'wand', 'want', 'warlord', 'warm', 'warrant', 'water', 'waterbed', 'waterproof', 'wave', 'web', 'website', 'wed', 'wedding', 'wee', 'weed', 'week', 'weekend', 'welfare', 'west', 'western', 'wet', 'whiplash', 'whirlpool', 'wig', 'wild', 'wildebeest', 'winch', 'wind', 'winner', 'winter', 'wireless', 'wit', 'wok', 'wolf', 'womanizer', 'wonder', 'workaholic', 'workshop', 'worm', 'wringer', 'wrong', 'yank', 'yard', 'yell', 'yen', 'yoga', 'yuppie', 'zebra', 'zest', 'zigzag', 'zit', 'zombie', 'zone', 'zoo', 'zoom']\n"
          ]
        }
      ],
      "source": [
        "# filter out pseudowords that happen to be valid Dutch words (mind case folding!)\n",
        "# show the set of pseudowords filtered out.\n",
        "# 1 point for applying the correct filtering\n",
        "\n",
        "# Step 1: Extract lowercase word lists\n",
        "# Gatti pseudowords (row names)\n",
        "gatti_words = gatti_df.index.str.lower()\n",
        "\n",
        "# Dutch real words from prevalence lexicon\n",
        "dutch_words = set(speed_df['word'].str.lower())\n",
        "\n",
        "# Step 2: Identify overlapping words (filtered out)\n",
        "filtered_out = sorted(set(gatti_words).intersection(dutch_words))\n",
        "\n",
        "# Step 3: Filter Gatti pseudowords\n",
        "gatti_filtered_df = gatti_df[~gatti_df.index.str.lower().isin(dutch_words)]\n",
        "\n",
        "# Step 4: Show filtered pseudowords\n",
        "print(\"Pseudowords filtered out (found in Dutch lexicon):\")\n",
        "print(filtered_out)\n"
      ]
    },
    {
      "cell_type": "code",
      "execution_count": 42,
      "metadata": {},
      "outputs": [
        {
          "name": "stdout",
          "output_type": "stream",
          "text": [
            "Collecting openpyxl\n",
            "  Downloading openpyxl-3.1.5-py2.py3-none-any.whl.metadata (2.5 kB)\n",
            "Collecting et-xmlfile (from openpyxl)\n",
            "  Downloading et_xmlfile-2.0.0-py3-none-any.whl.metadata (2.7 kB)\n",
            "Downloading openpyxl-3.1.5-py2.py3-none-any.whl (250 kB)\n",
            "Downloading et_xmlfile-2.0.0-py3-none-any.whl (18 kB)\n",
            "Installing collected packages: et-xmlfile, openpyxl\n",
            "Successfully installed et-xmlfile-2.0.0 openpyxl-3.1.5\n",
            "Note: you may need to restart the kernel to use updated packages.\n"
          ]
        }
      ],
      "source": [
        "%pip install openpyxl"
      ]
    },
    {
      "cell_type": "markdown",
      "metadata": {},
      "source": [
        "### Version 1 - not sure if its wrong?"
      ]
    },
    {
      "cell_type": "code",
      "execution_count": null,
      "metadata": {
        "id": "zvza9pb6MFgC"
      },
      "outputs": [
        {
          "name": "stdout",
          "output_type": "stream",
          "text": [
            "           Word   Valence  N_Unknown  N_Valence  ProportionUnknown  \\\n",
            "0  concordantie  3.222222         11          9           0.550000   \n",
            "1     nepotisme  2.111111         10          9           0.526316   \n",
            "2    prefectuur  3.222222         10          9           0.526316   \n",
            "3    prevaleren  3.444444         10          9           0.526316   \n",
            "4    affiliatie  3.100000          9         10           0.473684   \n",
            "\n",
            "   RemoveUnknown  \n",
            "0              1  \n",
            "1              1  \n",
            "2              1  \n",
            "3              1  \n",
            "4              0  \n",
            "Index(['Word', 'Valence', 'N_Unknown', 'N_Valence', 'ProportionUnknown',\n",
            "       'RemoveUnknown'],\n",
            "      dtype='object')\n",
            "           Word   Valence\n",
            "0  concordantie  3.222222\n",
            "1     nepotisme  2.111111\n",
            "2    prefectuur  3.222222\n",
            "3    prevaleren  3.444444\n",
            "Unigram vector for 'ampgrair':\n",
            "a: 2\n",
            "i: 1\n",
            "m: 1\n",
            "p: 1\n",
            "r: 2\n",
            "(No known n-grams found in vocabulary)\n",
            "\n",
            "Bigram vector for 'ampgrair':\n",
            "(No known n-grams found in vocabulary)\n"
          ]
        }
      ],
      "source": [
        "# # encode Dutch words and pseudowords from Gatti et al as uni- and bi-gram vectors\n",
        "# # show the uni-gram and bi-gram encoding of the pseudoword ampgrair\n",
        "# # 2 points for correctly encoding the target strings as uni- and bi-gram vectors\n",
        "\n",
        "# from collections import Counter\n",
        "# import numpy as np\n",
        "\n",
        "# # Step 1: Create a list of Dutch words from the valence dataset\n",
        "# valence_df = pd.read_excel(\"/Users/bramdewaal/Desktop/Uni/VSC/CL/Group Assignment/data/BrysbaertValence.xlsx\")\n",
        "\n",
        "# # Show the first few rows\n",
        "# print(valence_df.head())\n",
        "\n",
        "# # Show all column names\n",
        "# print(valence_df.columns)\n",
        "\n",
        "# # Clean: Keep only rows marked as known words (RemoveUnknown == 1)\n",
        "# valence_df = valence_df[valence_df[\"RemoveUnknown\"] == 1]\n",
        "\n",
        "# # Keep only the columns we care about\n",
        "# valence_df = valence_df[[\"Word\", \"Valence\"]]\n",
        "\n",
        "# # Normalize: lowercase the words\n",
        "# valence_df[\"Word\"] = valence_df[\"Word\"].str.lower()\n",
        "\n",
        "# # Final check\n",
        "# print(valence_df.head())\n",
        "\n",
        "# dutch_words = valence_df['Word'].dropna().astype(str).str.lower().tolist()\n",
        "\n",
        "# # Step 2: Extract all unigrams and bigrams in the corpus\n",
        "# def get_ngrams(word: str, n: int):\n",
        "#     return [word[i:i+n] for i in range(len(word) - n + 1)]\n",
        "\n",
        "# # Collect all unigrams and bigrams from the corpus\n",
        "# unigrams = set()\n",
        "# bigrams = set()\n",
        "# for word in dutch_words:\n",
        "#     unigrams.update(get_ngrams(word, 1))\n",
        "#     bigrams.update(get_ngrams(word, 2))\n",
        "\n",
        "# # Create sorted vocabularies (to lock feature order)\n",
        "# unigram_vocab = sorted(unigrams)\n",
        "# bigram_vocab = sorted(bigrams)\n",
        "\n",
        "# # Map each n-gram to a vector index\n",
        "# unigram_index = {gram: i for i, gram in enumerate(unigram_vocab)}\n",
        "# bigram_index = {gram: i for i, gram in enumerate(bigram_vocab)}\n",
        "\n",
        "# # Step 3: Define encoding functions\n",
        "# def encode_word_ngrams(word: str, index_map: dict, n: int) -> np.ndarray:\n",
        "#     \"\"\"Encodes a word as a sparse n-gram vector using a given n-gram index map.\"\"\"\n",
        "#     vec = np.zeros(len(index_map))\n",
        "#     ngrams = get_ngrams(word.lower(), n)\n",
        "#     counts = Counter(ngrams)\n",
        "#     for gram, count in counts.items():\n",
        "#         if gram in index_map:\n",
        "#             vec[index_map[gram]] = count\n",
        "#     return vec\n",
        "\n",
        "\n",
        "\n",
        "# # Encode the pseudoword \"ampgrair\"\n",
        "# word = \"ampgrair\"\n",
        "\n",
        "# uni_vec = encode_word_ngrams(word, unigram_index, 1)\n",
        "# bi_vec = encode_word_ngrams(word, bigram_index, 2)\n",
        "\n",
        "# # Preview the non-zero parts\n",
        "# def print_vector(vec, vocab):\n",
        "#     found = False\n",
        "#     for i, v in enumerate(vec):\n",
        "#         if v != 0:\n",
        "#             print(f\"{vocab[i]}: {int(v)}\")\n",
        "#     if not found:\n",
        "#         print(\"(No known n-grams found in vocabulary)\")\n",
        "\n",
        "# print(\"Unigram vector for 'ampgrair':\")\n",
        "# print_vector(uni_vec, unigram_vocab)\n",
        "\n",
        "# print(\"\\nBigram vector for 'ampgrair':\")\n",
        "# print_vector(bi_vec, bigram_vocab)\n"
      ]
    },
    {
      "cell_type": "markdown",
      "metadata": {},
      "source": [
        "### Version 2 "
      ]
    },
    {
      "cell_type": "code",
      "execution_count": 53,
      "metadata": {},
      "outputs": [
        {
          "name": "stdout",
          "output_type": "stream",
          "text": [
            "Unigram vector for 'ampgrair':\n",
            "a: 2\n",
            "g: 1\n",
            "i: 1\n",
            "m: 1\n",
            "p: 1\n",
            "r: 2\n",
            "\n",
            "Bigram vector for 'ampgrair':\n",
            "ai: 1\n",
            "am: 1\n",
            "gr: 1\n",
            "ir: 1\n",
            "mp: 1\n",
            "pg: 1\n",
            "ra: 1\n"
          ]
        }
      ],
      "source": [
        "# # encode Dutch words and pseudowords from Gatti et al as uni- and bi-gram vectors\n",
        "# # show the uni-gram and bi-gram encoding of the pseudoword ampgrair\n",
        "# # 2 points for correctly encoding the target strings as uni- and bi-gram vectors\n",
        "\n",
        "\n",
        "import numpy as np\n",
        "from collections import Counter\n",
        "\n",
        "# Function to get character n-grams\n",
        "def get_ngrams(word: str, n: int):\n",
        "    return [word[i:i+n] for i in range(len(word) - n + 1)]\n",
        "\n",
        "valence_df = pd.read_excel(\"/Users/bramdewaal/Desktop/Uni/VSC/CL/Group Assignment/data/BrysbaertValence.xlsx\")\n",
        "# Step 1: Collect all words for vocabulary (Dutch + pseudowords)\n",
        "dutch_words = valence_df[\"Word\"].astype(str).str.lower().tolist()\n",
        "pseudowords = gatti_filtered_df.index.str.lower().tolist()\n",
        "all_words = dutch_words + pseudowords\n",
        "\n",
        "# Step 2: Build vocabularies\n",
        "unigrams = sorted(set(c for w in all_words for c in get_ngrams(w, 1)))\n",
        "bigrams = sorted(set(b for w in all_words for b in get_ngrams(w, 2)))\n",
        "\n",
        "# Index maps\n",
        "unigram_index = {gram: i for i, gram in enumerate(unigrams)}\n",
        "bigram_index = {gram: i for i, gram in enumerate(bigrams)}\n",
        "\n",
        "# Step 3: Encoding function\n",
        "def encode_word_ngrams(word: str, index_map: dict, n: int) -> np.ndarray:\n",
        "    vec = np.zeros(len(index_map))\n",
        "    ngrams = get_ngrams(word.lower(), n)\n",
        "    counts = Counter(ngrams)\n",
        "    for gram, count in counts.items():\n",
        "        if gram in index_map:\n",
        "            vec[index_map[gram]] = count\n",
        "    return vec\n",
        "\n",
        "# Step 4: Helper to print non-zero entries\n",
        "def print_vector(vec, vocab):\n",
        "    found = False\n",
        "    for i, v in enumerate(vec):\n",
        "        if v != 0:\n",
        "            print(f\"{vocab[i]}: {int(v)}\")\n",
        "            found = True\n",
        "    if not found:\n",
        "        print(\"(No known n-grams found in vocabulary)\")\n",
        "\n",
        "# Step 5: Encode 'ampgrair'\n",
        "word = \"ampgrair\"\n",
        "print(\"Unigram vector for 'ampgrair':\")\n",
        "uni_vec = encode_word_ngrams(word, unigram_index, 1)\n",
        "print_vector(uni_vec, unigrams)\n",
        "\n",
        "print(\"\\nBigram vector for 'ampgrair':\")\n",
        "bi_vec = encode_word_ngrams(word, bigram_index, 2)\n",
        "print_vector(bi_vec, bigrams)\n"
      ]
    },
    {
      "cell_type": "code",
      "execution_count": 54,
      "metadata": {
        "id": "-w9-ySEuPp1Y"
      },
      "outputs": [
        {
          "name": "stdout",
          "output_type": "stream",
          "text": [
            "Uni-gram model Mean Squared Error: 0.42390078742333853\n",
            "Bi-gram model Mean Squared Error: 0.3986652077283083\n"
          ]
        }
      ],
      "source": [
        "# use word valence estimates from Speed and Brysbaert (2024) to train\n",
        "# - a uni-gram model\n",
        "# - a bi-gram model\n",
        "# 2 points for correctly trained models\n",
        "\n",
        "import pandas as pd\n",
        "import numpy as np\n",
        "from sklearn.linear_model import LinearRegression\n",
        "from sklearn.model_selection import train_test_split\n",
        "from sklearn.metrics import mean_squared_error\n",
        "\n",
        "# Assuming you already have your n-gram vocabularies and encoding functions defined\n",
        "# and that you loaded your Dutch words and pseudowords into all_words, \n",
        "# and built unigram_index and bigram_index\n",
        "\n",
        "# Load valence data from the Excel file (ensure the file path is correct)\n",
        "valence_df = pd.read_excel(\"/Users/bramdewaal/Desktop/Uni/VSC/CL/Group Assignment/data/BrysbaertValence.xlsx\")\n",
        "\n",
        "# Create the uni-gram and bi-gram features for each word using the previously defined encoding function\n",
        "# Note: adjust the column names if necessary. Here we assume the words are in the column \"Word\"\n",
        "valence_df[\"unigram_features\"] = valence_df[\"Word\"].apply(lambda w: encode_word_ngrams(w, unigram_index, 1))\n",
        "valence_df[\"bigram_features\"] = valence_df[\"Word\"].apply(lambda w: encode_word_ngrams(w, bigram_index, 2))\n",
        "\n",
        "# Convert the features into numpy arrays for modeling\n",
        "X_uni = np.vstack(valence_df[\"unigram_features\"].values)\n",
        "X_bi = np.vstack(valence_df[\"bigram_features\"].values)\n",
        "y = valence_df[\"Valence\"].values  # Adjust if the column name is different\n",
        "\n",
        "# Split the data into training and testing sets (using the same random_state for reproducibility)\n",
        "X_uni_train, X_uni_test, y_train, y_test = train_test_split(X_uni, y, test_size=0.2, random_state=42)\n",
        "X_bi_train, X_bi_test, _, _ = train_test_split(X_bi, y, test_size=0.2, random_state=42)\n",
        "\n",
        "# Train a uni-gram model using Linear Regression\n",
        "uni_model = LinearRegression()\n",
        "uni_model.fit(X_uni_train, y_train)\n",
        "\n",
        "# Train a bi-gram model using Linear Regression\n",
        "bi_model = LinearRegression()\n",
        "bi_model.fit(X_bi_train, y_train)\n",
        "\n",
        "# Evaluate both models on their respective test sets\n",
        "y_uni_pred = uni_model.predict(X_uni_test)\n",
        "y_bi_pred = bi_model.predict(X_bi_test)\n",
        "\n",
        "uni_mse = mean_squared_error(y_test, y_uni_pred)\n",
        "bi_mse = mean_squared_error(y_test, y_bi_pred)\n",
        "\n",
        "print(\"Uni-gram model Mean Squared Error:\", uni_mse)\n",
        "print(\"Bi-gram model Mean Squared Error:\", bi_mse)\n"
      ]
    },
    {
      "cell_type": "code",
      "execution_count": 8,
      "metadata": {
        "id": "6RG3aeRSPtLX"
      },
      "outputs": [],
      "source": [
        "# apply trained models to predict the valence of pseudowords from Gatti et al (2024).\n",
        "# Then apply the same models back onto the training set to see how well they predict the valence of words in Speed and Brysbaert (2024).\n",
        "# 2 points for correctly applied models"
      ]
    },
    {
      "cell_type": "code",
      "execution_count": 9,
      "metadata": {
        "id": "9aDwbajtPxze"
      },
      "outputs": [],
      "source": [
        "# compute the Spearman correlation coefficients between true valence and predicted valence under both uni- and bi-gram models for\n",
        "# - words from Speed and Brysbaert (2024)\n",
        "# - pseudowords from Gatti and colleagues (2024)\n",
        "# show both correlation coefficients.\n",
        "# 2 points for the correct Spearman correlation coefficients (rounded to the third decimal place)"
      ]
    },
    {
      "cell_type": "markdown",
      "metadata": {
        "id": "p0P1rNg5QoDn"
      },
      "source": [
        "**Task 2** (*8 points available, see breakdown below*)\n",
        "\n",
        "Again following Gatti and colleagues, you should encode the target strings (pseudowords and Dutch words from Speed and Brysbaert) as fastText embeddings, train a multiple regression model on Dutch words and apply it to the pseudowords in Gatti et al. You should finally report the Spearman correlation coefficient between observed and predicted valence for both words and pseudowords.\n",
        "\n",
        "You should use the pre-trained fastText model for Dutch, available at this page: https://fasttext.cc/docs/en/crawl-vectors.html\n",
        "\n",
        "Finally, you should answer two questions about the fastText model (see below)."
      ]
    },
    {
      "cell_type": "code",
      "execution_count": 10,
      "metadata": {
        "id": "pDeWgWUNAckd"
      },
      "outputs": [],
      "source": [
        "# load the fastText model\n",
        "# 1 point for correctly loading the appropriate fastText model"
      ]
    },
    {
      "cell_type": "markdown",
      "metadata": {
        "id": "rUD0VUJeRhr3"
      },
      "source": [
        "What is the dimensionality of the pre-trained Dutch fastText embeddings? (*1 point for the correct answer*)"
      ]
    },
    {
      "cell_type": "markdown",
      "metadata": {
        "id": "pgej4BPNRoUE"
      },
      "source": [
        "What minimum and maximum n-gram size was specified for training this fastText model? (*1 point for the correct answer*)"
      ]
    },
    {
      "cell_type": "code",
      "execution_count": 11,
      "metadata": {
        "id": "aW-XEksGR28U"
      },
      "outputs": [],
      "source": [
        "# encode Dutch words and pseudowords as fastText embeddings\n",
        "# show the first 20 values of the embedding of the word 'speelplaats' and of the pseudoword 'danchunk'\n",
        "# 2 points for correctly encoding words and pseudowords with fastText"
      ]
    },
    {
      "cell_type": "code",
      "execution_count": 12,
      "metadata": {
        "id": "3ePBth7cSAJU"
      },
      "outputs": [],
      "source": [
        "# train regression model on word valence\n",
        "# 1 point for correctly training the regression model"
      ]
    },
    {
      "cell_type": "code",
      "execution_count": 13,
      "metadata": {
        "id": "REJnnM2mSHHK"
      },
      "outputs": [],
      "source": [
        "# apply the trained model to predict the valence of pseudowords from Gatti et al (2024).\n",
        "# Then apply the same model back onto the training set to see how well it predicts the valence of words in Speed and Brysbaert (2024).\n",
        "# 1 point for correctly applied model"
      ]
    },
    {
      "cell_type": "code",
      "execution_count": 14,
      "metadata": {
        "id": "JIyyTyfHSKh5"
      },
      "outputs": [],
      "source": [
        "# compute the Spearman correlation coefficients between true valence and predicted valence for\n",
        "# - words from Speed and Brysbaert (2024)\n",
        "# - pseudowords from Gatti and colleagues (2024)\n",
        "# show the correlation coefficient.\n",
        "# 1 point for the correct Spearman correlation coefficients (rounded to the third decimal place)"
      ]
    },
    {
      "cell_type": "markdown",
      "metadata": {
        "id": "wnqKJ5XOSTbM"
      },
      "source": [
        "**Task 3** (*6 points available, see breakdown below*)\n",
        "\n",
        "Now you are asked to extend the work by Gatti et al by also considering the representations learned by a transformer-based models, in detail *RobBERT v2* (https://huggingface.co/pdelobelle/robbert-v2-dutch-base). You should follow the same pipeline as for the previous models, encoding both Dutch words from Speed and Brysbaert (2024) and the pseudowords from Gatti et al using the embedding of each string at layer 0, before positional information is factored in. If a string consists of multiple tokens, average the embeddings of all tokens to produce the embedding of the whole string. Then train a multiple regression model on the valence of Dutch words, apply it to the pseudowords, and compute the Spearman correlation between observed and predicted ratings.\n",
        "\n",
        "Use the HuggingFace model card for RobBERT v2 to check how to access it.\n",
        "\n",
        "I recommend saving the embeddings to file once you have generated them and you know they are correct: embedding thousands of strings takes some time, and you don't want to have to do it again. For the same reason, develop your code by considering only a small fractions of the words and pseudowords, in order to quickly see if something is wrong. Only when you are positive it works, embed all strings."
      ]
    },
    {
      "cell_type": "code",
      "execution_count": 15,
      "metadata": {
        "collapsed": true,
        "id": "Ppi-Zcp6i9Rn"
      },
      "outputs": [],
      "source": [
        "# load and instantiate the right model\n",
        "# 1 point for loading the right model"
      ]
    },
    {
      "cell_type": "code",
      "execution_count": 16,
      "metadata": {
        "id": "nGBaQgZqZzhw"
      },
      "outputs": [],
      "source": [
        "# encode the words and pseudowords using RobBERT v2. I've used the free GPU runtime on COLAB to speed things up,\n",
        "# but in this case you need to batch the words and pseudowords. You can use the function below to create batches\n",
        "# but you will have to pay attention at how you store embeddings.\n",
        "# show the first 20 values of the embedding of the word 'miauwen' and of the pseudoword 'lixthless'\n",
        "# 2 points for correctly encoding words and pseudowords\n",
        "\n",
        "def chunks(lst, n):\n",
        "\n",
        "    \"\"\"Chunks a list into equal chunks containing n elements. Returns a list of lists.\"\"\"\n",
        "\n",
        "    chunked = []\n",
        "    for i in range(0, len(lst), n):\n",
        "        chunked.append(lst[i:i + n])\n",
        "    return chunked\n"
      ]
    },
    {
      "cell_type": "code",
      "execution_count": 17,
      "metadata": {
        "id": "BFq3hHCDUPjL"
      },
      "outputs": [],
      "source": [
        "# train regression model on word valence estimates from Speed and Brysbaert (2024)\n",
        "# 1 point for correctly training the regression model"
      ]
    },
    {
      "cell_type": "code",
      "execution_count": 18,
      "metadata": {
        "id": "evaU9NAxUSoW"
      },
      "outputs": [],
      "source": [
        "# apply the trained model to predict the valence of pseudowords from Gatti et al (2024).\n",
        "# Then apply the same model back onto the training set to see how well it predicts the valence of words in Speed and Brysbaert (2024).\n",
        "# 1 point for correctly applied model"
      ]
    },
    {
      "cell_type": "code",
      "execution_count": 19,
      "metadata": {
        "id": "JVcuHS02UUPd"
      },
      "outputs": [],
      "source": [
        "# compute the Spearman correlation coefficients between true valence and predicted valence for\n",
        "# - words from Speed and Brysbaert (2024)\n",
        "# - pseudowords from Gatti and colleagues (2024)\n",
        "# show the correlation coefficient\n",
        "# 1 point for the correct Spearman correlation coefficients (rounded to the third decimal place)"
      ]
    },
    {
      "cell_type": "markdown",
      "metadata": {
        "id": "DfWX1QTfB172"
      },
      "source": [
        "**Task 4** (*16 points available, 4 for each question*)\n",
        "\n",
        "Answer the following questions.\n",
        "\n",
        "**4a.** Describe the performance of each featurization, comparing\n",
        "- the performance of a same model between the training and test set\n",
        "- the performance of different models on the training set\n",
        "- the performance of different models on the test set\n",
        "\n",
        "(*4 points available, max 150 words*)"
      ]
    },
    {
      "cell_type": "markdown",
      "metadata": {
        "id": "EONmoGe8CAyI"
      },
      "source": [
        "*type your answer here*"
      ]
    },
    {
      "cell_type": "markdown",
      "metadata": {
        "id": "GpkgvOqeB6jH"
      },
      "source": [
        "**4b.** Compare the correlations you found when training uni-gram, bi-gram, and fastText models on Dutch words and the correlations of similar models trained on English data as reported by Gatti and colleagues; summarize the most important similarities and differences.\n",
        "\n",
        "(*4 points available, max 150 words*)"
      ]
    },
    {
      "cell_type": "markdown",
      "metadata": {
        "id": "Vv7P2zvnCBiX"
      },
      "source": [
        "*type your answer here*"
      ]
    },
    {
      "cell_type": "markdown",
      "metadata": {
        "id": "GQ2SxrYHy3Hx"
      },
      "source": [
        "**4c.** Do you think the performance of the fastText featurization would change if you were to use different n-grams? Would you make them smaller or larger? Justify your answer.\n",
        "\n",
        "(*4 points available, max 150 words*)"
      ]
    },
    {
      "cell_type": "markdown",
      "metadata": {
        "id": "-M-lvw2qVjNH"
      },
      "source": [
        "*type your answer here*"
      ]
    },
    {
      "cell_type": "markdown",
      "metadata": {
        "id": "5_-zN3Vp2OBD"
      },
      "source": [
        "**4d.** Do you think that training the same models on uni-grams, bi-grams, fastText and transformer-based embeddings but using valence ratings for Finnish (a language which uses the same alphabet as English but is not a IndoEuropean language) words would yield a similar pattern of results? Justify your answer.\n",
        "\n",
        "(*4 points available, max 150 words*)"
      ]
    },
    {
      "cell_type": "markdown",
      "metadata": {
        "id": "20T-4kCdVppE"
      },
      "source": [
        "*type your answer here*"
      ]
    },
    {
      "cell_type": "markdown",
      "metadata": {
        "id": "w4ILTPziXptK"
      },
      "source": [
        "**Task 5** (*3 points available*)\n",
        "\n",
        "Compute the average Levenshtein Distance (aLD) between each pseudoword and the 20 words at the smallest edit distance from it. Consider the set of words you used to filter out pseudowords that happen to be valid Dutch words (the file is available in this OSF repository: https://osf.io/9zymw/) to retrieve the 20 words at the smallest edit distance."
      ]
    },
    {
      "cell_type": "code",
      "execution_count": 20,
      "metadata": {
        "id": "OGks7N-JCjFu"
      },
      "outputs": [],
      "source": [
        "# compute the average Levenshtein distance from each pseudoword to the words used to filter out pseudowords.\n",
        "# Show the aLD estimate for the pseudowords 'nedukes', 'pewbin', and 'vibcines'\n",
        "# 3 points for correctly computing aLD for pseudowords"
      ]
    },
    {
      "cell_type": "markdown",
      "metadata": {
        "id": "zBdwMhHsYY0j"
      },
      "source": [
        "**Task 6** (*3 points available*)\n",
        "\n",
        "For each pseudoword, record the number of tokens in which RobBERT v2 encodes it."
      ]
    },
    {
      "cell_type": "code",
      "execution_count": 21,
      "metadata": {
        "collapsed": true,
        "id": "FDOechQfmvqE"
      },
      "outputs": [],
      "source": [
        "# record the number of tokens in which RobBERT divides each pseudoword\n",
        "# show the number of tokens for the pseudowords 'yuxwas', 'skibfy', and 'errords'\n",
        "# 3 points for correctly mapping pseudowords to number of tokens"
      ]
    },
    {
      "cell_type": "markdown",
      "metadata": {
        "id": "H9LxipdMYqXN"
      },
      "source": [
        "**Task 7** (*5 points available, see breakdown below*)\n",
        "\n",
        "Compute the residuals of the predicted valence under the four regressors trained and applied in tasks 2 to 4. Then, correlate the residuals from all four models with aLD. Finally, correlate the residuals from the RobBERT v2 model with the number of tokens in which each pseudoword is split. Use the Pearson's correlation coefficient."
      ]
    },
    {
      "cell_type": "code",
      "execution_count": 22,
      "metadata": {
        "id": "dc2p7UXSCi-q"
      },
      "outputs": [],
      "source": [
        "# compute the residuals from all four regression models fitted before\n",
        "# 1 point available for correctly computing residuals"
      ]
    },
    {
      "cell_type": "code",
      "execution_count": 23,
      "metadata": {
        "id": "KkqJLI17C0Ml"
      },
      "outputs": [],
      "source": [
        "# compute the Pearson's correlation between residuals and average LD for all models,\n",
        "# as well as the correlation between RobBERT v2 residuals and the number of tokens in which each pseudoword\n",
        "#    is encoded by the RobBERT v2 model.\n",
        "# show all correlation coefficients\n",
        "# 4 points for the correct correlation coefficients"
      ]
    },
    {
      "cell_type": "markdown",
      "metadata": {
        "id": "6owroLfAC4vf"
      },
      "source": [
        "**Task 8** What is the relation between the errors each model made and aLD? what about the number of tokens (limited to the RobBERT v2 model)?\n",
        "\n",
        "(*4 points available, max 150 words*)"
      ]
    },
    {
      "cell_type": "markdown",
      "metadata": {
        "id": "LvaOAjqxuHgm"
      },
      "source": [
        "*testo in corsivo*"
      ]
    }
  ],
  "metadata": {
    "accelerator": "GPU",
    "colab": {
      "gpuType": "T4",
      "provenance": []
    },
    "kernelspec": {
      "display_name": "Python 3",
      "name": "python3"
    },
    "language_info": {
      "codemirror_mode": {
        "name": "ipython",
        "version": 3
      },
      "file_extension": ".py",
      "mimetype": "text/x-python",
      "name": "python",
      "nbconvert_exporter": "python",
      "pygments_lexer": "ipython3",
      "version": "3.11.5"
    }
  },
  "nbformat": 4,
  "nbformat_minor": 0
}
