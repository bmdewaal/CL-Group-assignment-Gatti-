{
  "cells": [
    {
      "cell_type": "markdown",
      "metadata": {
        "id": "GcbFlt0uJpNc"
      },
      "source": [
        "In this assignment you will be asked to extend the work by Gatti et al by checking whether form-meaning mappings learned on a different yet related language to that considered in the original study still capture the perceived valence of pseudowords. To do this you will be asked to engage with several different resources and adapt the pipeline following the instructions. Along the way, you will be asked to answer a few questions.\n",
        "\n",
        "You need to submit the complete notebook in .ipynb format, with intermediate outputs visible. The notebook should be named as follows:\n",
        "\n",
        "CL2025_groupN_assignment.ipynb\n",
        "\n",
        "where N is the group number. Submissions in the wrong format or with names not adhering to the guidelines will not be evaluated."
      ]
    },
    {
      "cell_type": "markdown",
      "metadata": {
        "id": "6rkN7t4rqacE"
      },
      "source": [
        "Indicate group members' names, student numbers, and contributions below:\n",
        "- 1.\n",
        "- 2.\n",
        "- 3.\n",
        "- 4.\n",
        "- 5."
      ]
    },
    {
      "cell_type": "code",
      "execution_count": 6,
      "metadata": {
        "colab": {
          "base_uri": "https://localhost:8080/"
        },
        "collapsed": true,
        "id": "OQbS5Urfit8W",
        "outputId": "58df468b-6daa-4b77-b4c4-19dea3361b30"
      },
      "outputs": [
        {
          "name": "stdout",
          "output_type": "stream",
          "text": [
            "Cloning into 'psycho-embeddings'...\n",
            "remote: Enumerating objects: 199, done.\u001b[K\n",
            "remote: Counting objects: 100% (199/199), done.\u001b[K\n",
            "remote: Compressing objects: 100% (138/138), done.\u001b[K\n",
            "remote: Total 199 (delta 105), reused 141 (delta 53), pack-reused 0 (from 0)\u001b[K\n",
            "Receiving objects: 100% (199/199), 67.91 KiB | 1.06 MiB/s, done.\n",
            "Resolving deltas: 100% (105/105), done.\n",
            "/Users/bramdewaal/Desktop/Uni/VSC/CL/Group Assignment/psycho-embeddings/psycho-embeddings\n"
          ]
        },
        {
          "name": "stderr",
          "output_type": "stream",
          "text": [
            "/Users/bramdewaal/Library/Python/3.11/lib/python/site-packages/IPython/core/magics/osm.py:417: UserWarning: This is now an optional IPython functionality, setting dhist requires you to install the `pickleshare` library.\n",
            "  self.shell.db['dhist'] = compress_dhist(dhist)[-100:]\n"
          ]
        },
        {
          "name": "stdout",
          "output_type": "stream",
          "text": [
            "\u001b[31mERROR: Could not open requirements file: [Errno 2] No such file or directory: 'requirements.txt'\u001b[0m\u001b[31m\n",
            "\u001b[0m\u001b[33mDEPRECATION: Loading egg at /Users/bramdewaal/anaconda3/lib/python3.11/site-packages/colorcorrect-0.9.1-py3.11-macosx-11.1-arm64.egg is deprecated. pip 24.3 will enforce this behaviour change. A possible replacement is to use pip for package installation. Discussion can be found at https://github.com/pypa/pip/issues/12330\u001b[0m\u001b[33m\n",
            "\u001b[0mRequirement already satisfied: datasets in /Users/bramdewaal/anaconda3/lib/python3.11/site-packages (3.1.0)\n",
            "Requirement already satisfied: filelock in /Users/bramdewaal/anaconda3/lib/python3.11/site-packages (from datasets) (3.13.1)\n",
            "Requirement already satisfied: numpy>=1.17 in /Users/bramdewaal/anaconda3/lib/python3.11/site-packages (from datasets) (1.26.4)\n",
            "Requirement already satisfied: pyarrow>=15.0.0 in /Users/bramdewaal/anaconda3/lib/python3.11/site-packages (from datasets) (18.0.0)\n",
            "Requirement already satisfied: dill<0.3.9,>=0.3.0 in /Users/bramdewaal/anaconda3/lib/python3.11/site-packages (from datasets) (0.3.8)\n",
            "Requirement already satisfied: pandas in /Users/bramdewaal/anaconda3/lib/python3.11/site-packages (from datasets) (2.1.4)\n",
            "Requirement already satisfied: requests>=2.32.2 in /Users/bramdewaal/anaconda3/lib/python3.11/site-packages (from datasets) (2.32.3)\n",
            "Requirement already satisfied: tqdm>=4.66.3 in /Users/bramdewaal/anaconda3/lib/python3.11/site-packages (from datasets) (4.67.0)\n",
            "Requirement already satisfied: xxhash in /Users/bramdewaal/anaconda3/lib/python3.11/site-packages (from datasets) (3.5.0)\n",
            "Requirement already satisfied: multiprocess<0.70.17 in /Users/bramdewaal/anaconda3/lib/python3.11/site-packages (from datasets) (0.70.16)\n",
            "Requirement already satisfied: fsspec<=2024.9.0,>=2023.1.0 in /Users/bramdewaal/anaconda3/lib/python3.11/site-packages (from fsspec[http]<=2024.9.0,>=2023.1.0->datasets) (2023.10.0)\n",
            "Requirement already satisfied: aiohttp in /Users/bramdewaal/anaconda3/lib/python3.11/site-packages (from datasets) (3.9.3)\n",
            "Requirement already satisfied: huggingface-hub>=0.23.0 in /Users/bramdewaal/anaconda3/lib/python3.11/site-packages (from datasets) (0.26.2)\n",
            "Requirement already satisfied: packaging in /Users/bramdewaal/anaconda3/lib/python3.11/site-packages (from datasets) (23.2)\n",
            "Requirement already satisfied: pyyaml>=5.1 in /Users/bramdewaal/anaconda3/lib/python3.11/site-packages (from datasets) (6.0.1)\n",
            "Requirement already satisfied: aiosignal>=1.1.2 in /Users/bramdewaal/anaconda3/lib/python3.11/site-packages (from aiohttp->datasets) (1.2.0)\n",
            "Requirement already satisfied: attrs>=17.3.0 in /Users/bramdewaal/anaconda3/lib/python3.11/site-packages (from aiohttp->datasets) (23.1.0)\n",
            "Requirement already satisfied: frozenlist>=1.1.1 in /Users/bramdewaal/anaconda3/lib/python3.11/site-packages (from aiohttp->datasets) (1.4.0)\n",
            "Requirement already satisfied: multidict<7.0,>=4.5 in /Users/bramdewaal/anaconda3/lib/python3.11/site-packages (from aiohttp->datasets) (6.0.4)\n",
            "Requirement already satisfied: yarl<2.0,>=1.0 in /Users/bramdewaal/anaconda3/lib/python3.11/site-packages (from aiohttp->datasets) (1.9.3)\n",
            "Requirement already satisfied: typing-extensions>=3.7.4.3 in /Users/bramdewaal/anaconda3/lib/python3.11/site-packages (from huggingface-hub>=0.23.0->datasets) (4.12.2)\n",
            "Requirement already satisfied: charset-normalizer<4,>=2 in /Users/bramdewaal/anaconda3/lib/python3.11/site-packages (from requests>=2.32.2->datasets) (2.0.4)\n",
            "Requirement already satisfied: idna<4,>=2.5 in /Users/bramdewaal/anaconda3/lib/python3.11/site-packages (from requests>=2.32.2->datasets) (3.4)\n",
            "Requirement already satisfied: urllib3<3,>=1.21.1 in /Users/bramdewaal/anaconda3/lib/python3.11/site-packages (from requests>=2.32.2->datasets) (2.0.7)\n",
            "Requirement already satisfied: certifi>=2017.4.17 in /Users/bramdewaal/anaconda3/lib/python3.11/site-packages (from requests>=2.32.2->datasets) (2024.2.2)\n",
            "Requirement already satisfied: python-dateutil>=2.8.2 in /Users/bramdewaal/anaconda3/lib/python3.11/site-packages (from pandas->datasets) (2.8.2)\n",
            "Requirement already satisfied: pytz>=2020.1 in /Users/bramdewaal/anaconda3/lib/python3.11/site-packages (from pandas->datasets) (2023.3.post1)\n",
            "Requirement already satisfied: tzdata>=2022.1 in /Users/bramdewaal/anaconda3/lib/python3.11/site-packages (from pandas->datasets) (2023.3)\n",
            "Requirement already satisfied: six>=1.5 in /Users/bramdewaal/anaconda3/lib/python3.11/site-packages (from python-dateutil>=2.8.2->pandas->datasets) (1.16.0)\n"
          ]
        }
      ],
      "source": [
        "# the code has been tested using the psycho-embeddings library to extract representations from LLMs. You can also use other libraries,\n",
        "# as long as you make sure that you are producing the correct output.\n",
        "!git clone https://github.com/MilaNLProc/psycho-embeddings.git\n",
        "%cd psycho-embeddings\n",
        "!pip install -r requirements.txt\n",
        "!pip install datasets\n"
      ]
    },
    {
      "cell_type": "code",
      "execution_count": 7,
      "metadata": {},
      "outputs": [
        {
          "name": "stdout",
          "output_type": "stream",
          "text": [
            "Requirement already satisfied: nltk in /Library/Frameworks/Python.framework/Versions/3.11/lib/python3.11/site-packages (3.9.1)\n",
            "Requirement already satisfied: click in /Library/Frameworks/Python.framework/Versions/3.11/lib/python3.11/site-packages (from nltk) (8.1.8)\n",
            "Requirement already satisfied: joblib in /Library/Frameworks/Python.framework/Versions/3.11/lib/python3.11/site-packages (from nltk) (1.4.2)\n",
            "Requirement already satisfied: regex>=2021.8.3 in /Library/Frameworks/Python.framework/Versions/3.11/lib/python3.11/site-packages (from nltk) (2024.11.6)\n",
            "Requirement already satisfied: tqdm in /Library/Frameworks/Python.framework/Versions/3.11/lib/python3.11/site-packages (from nltk) (4.66.5)\n",
            "Note: you may need to restart the kernel to use updated packages.\n",
            "Requirement already satisfied: fasttext in /Library/Frameworks/Python.framework/Versions/3.11/lib/python3.11/site-packages (0.9.3)\n",
            "Requirement already satisfied: pybind11>=2.2 in /Library/Frameworks/Python.framework/Versions/3.11/lib/python3.11/site-packages (from fasttext) (2.13.6)\n",
            "Requirement already satisfied: setuptools>=0.7.0 in /Library/Frameworks/Python.framework/Versions/3.11/lib/python3.11/site-packages (from fasttext) (65.5.0)\n",
            "Requirement already satisfied: numpy in /Library/Frameworks/Python.framework/Versions/3.11/lib/python3.11/site-packages (from fasttext) (2.1.1)\n",
            "Note: you may need to restart the kernel to use updated packages.\n",
            "\u001b[31mERROR: Could not find a version that satisfies the requirement psycho_embeddings (from versions: none)\u001b[0m\u001b[31m\n",
            "\u001b[0m\u001b[31mERROR: No matching distribution found for psycho_embeddings\u001b[0m\u001b[31m\n",
            "\u001b[0mNote: you may need to restart the kernel to use updated packages.\n"
          ]
        }
      ],
      "source": [
        "%pip install nltk\n",
        "%pip install fasttext\n",
        "%pip install psycho_embeddings "
      ]
    },
    {
      "cell_type": "code",
      "execution_count": 4,
      "metadata": {
        "id": "ofb0L_c0AW0W"
      },
      "outputs": [
        {
          "name": "stderr",
          "output_type": "stream",
          "text": [
            "/Library/Frameworks/Python.framework/Versions/3.11/lib/python3.11/site-packages/tqdm/auto.py:21: TqdmWarning: IProgress not found. Please update jupyter and ipywidgets. See https://ipywidgets.readthedocs.io/en/stable/user_install.html\n",
            "  from .autonotebook import tqdm as notebook_tqdm\n",
            "/Library/Frameworks/Python.framework/Versions/3.11/lib/python3.11/site-packages/huggingface_hub/utils/_deprecation.py:131: FutureWarning: '__init_subclass__' (from 'transformers.agents.tools') is deprecated and will be removed from version '4.51.0'. Switch to smolagents instead, with the same functionalities and similar API (https://huggingface.co/docs/smolagents/index)\n",
            "  warnings.warn(warning_message, FutureWarning)\n"
          ]
        }
      ],
      "source": [
        "# the solution to the assignment has been obtained using these packages.\n",
        "# you're free to use other packages though: consider this as an indication, not a prescription.\n",
        "import nltk\n",
        "import numpy as np\n",
        "import pandas as pd\n",
        "import fasttext as ft\n",
        "import pickle as pkl\n",
        "import fasttext.util\n",
        "from tqdm import tqdm\n",
        "from collections import defaultdict\n",
        "from transformers import AutoTokenizer\n",
        "from psycho_embeddings import ContextualizedEmbedder"
      ]
    },
    {
      "cell_type": "markdown",
      "metadata": {
        "id": "Ra3phcRhKuuo"
      },
      "source": [
        "**Task 1** (*10 points available, see breakdown per task below*)\n",
        "\n",
        "You should replicate the main design in the paper *Valence without meaning* by Gatti and colleagues (2024), using estimates collected for Dutch word valence to train linear regression models and apply them to predict the valence of English pseudowords from Gatti and colleagues.\n",
        "\n",
        "In detail, to train your regression models, you should use the dataset by Speed and Brysbaert (2024) containing crowd-sourced valence ratings (use the metadata to identify the relevant columns) collected for approximately 24,000 Dutch words. See the paper *Ratings of valence, arousal, happiness, anger, fear, sadness, disgust, and surprise for 24,000 Dutch words* by Speed and Brysbaert (2024).\n",
        "\n",
        "You should train a letter unigram model and a bigram model. Each model should be trained on Dutch words only.\n",
        "\n",
        "Pay attention to one issue though: pseudowords created for English may be valid words in Dutch: therefore, you should first filter the list of pseudowords against a large store of Dutch words. To do so, use the words in the Dutch prevalence lexicon available in this OSF repository: https://osf.io/9zymw/. Essentially, you need to exclude any pseudoword that happens to be a word for which a prevalence estimate is available, whatever the prevalence is.\n",
        "\n",
        "Each code block indicates how many points are available and how they are attributed."
      ]
    },
    {
      "cell_type": "code",
      "execution_count": null,
      "metadata": {
        "id": "Hrd4EhHlAcmi"
      },
      "outputs": [],
      "source": [
        "# read in the pseudowords from Gatti and colleagues, as well as the valence ratings for 24,000 Dutch words from Speed and Brysbaert (2024)\n",
        "# show the first 5 lines of each dataset.\n",
        "# 1 point for identifying the correct files and correctly loading their content"
      ]
    },
    {
      "cell_type": "code",
      "execution_count": null,
      "metadata": {
        "id": "As4XV-LQPbyH"
      },
      "outputs": [],
      "source": [
        "# filter out pseudowords that happen to be valid Dutch words (mind case folding!)\n",
        "# show the set of pseudowords filtered out.\n",
        "# 1 point for applying the correct filtering"
      ]
    },
    {
      "cell_type": "code",
      "execution_count": null,
      "metadata": {
        "id": "zvza9pb6MFgC"
      },
      "outputs": [],
      "source": [
        "# encode Dutch words and pseudowords from Gatti et al as uni- and bi-gram vectors\n",
        "# show the uni-gram and bi-gram encoding of the pseudoword ampgrair\n",
        "# 2 points for correctly encoding the target strings as uni- and bi-gram vectors"
      ]
    },
    {
      "cell_type": "code",
      "execution_count": null,
      "metadata": {
        "id": "-w9-ySEuPp1Y"
      },
      "outputs": [],
      "source": [
        "# use word valence estimates from Speed and Brysbaert (2024) to train\n",
        "# - a uni-gram model\n",
        "# - a bi-gram model\n",
        "# 2 points for correctly trained models"
      ]
    },
    {
      "cell_type": "code",
      "execution_count": null,
      "metadata": {
        "id": "6RG3aeRSPtLX"
      },
      "outputs": [],
      "source": [
        "# apply trained models to predict the valence of pseudowords from Gatti et al (2024).\n",
        "# Then apply the same models back onto the training set to see how well they predict the valence of words in Speed and Brysbaert (2024).\n",
        "# 2 points for correctly applied models"
      ]
    },
    {
      "cell_type": "code",
      "execution_count": null,
      "metadata": {
        "id": "9aDwbajtPxze"
      },
      "outputs": [],
      "source": [
        "# compute the Spearman correlation coefficients between true valence and predicted valence under both uni- and bi-gram models for\n",
        "# - words from Speed and Brysbaert (2024)\n",
        "# - pseudowords from Gatti and colleagues (2024)\n",
        "# show both correlation coefficients.\n",
        "# 2 points for the correct Spearman correlation coefficients (rounded to the third decimal place)"
      ]
    },
    {
      "cell_type": "markdown",
      "metadata": {
        "id": "p0P1rNg5QoDn"
      },
      "source": [
        "**Task 2** (*8 points available, see breakdown below*)\n",
        "\n",
        "Again following Gatti and colleagues, you should encode the target strings (pseudowords and Dutch words from Speed and Brysbaert) as fastText embeddings, train a multiple regression model on Dutch words and apply it to the pseudowords in Gatti et al. You should finally report the Spearman correlation coefficient between observed and predicted valence for both words and pseudowords.\n",
        "\n",
        "You should use the pre-trained fastText model for Dutch, available at this page: https://fasttext.cc/docs/en/crawl-vectors.html\n",
        "\n",
        "Finally, you should answer two questions about the fastText model (see below)."
      ]
    },
    {
      "cell_type": "code",
      "execution_count": null,
      "metadata": {
        "id": "pDeWgWUNAckd"
      },
      "outputs": [],
      "source": [
        "# load the fastText model\n",
        "# 1 point for correctly loading the appropriate fastText model"
      ]
    },
    {
      "cell_type": "markdown",
      "metadata": {
        "id": "rUD0VUJeRhr3"
      },
      "source": [
        "What is the dimensionality of the pre-trained Dutch fastText embeddings? (*1 point for the correct answer*)"
      ]
    },
    {
      "cell_type": "markdown",
      "metadata": {
        "id": "pgej4BPNRoUE"
      },
      "source": [
        "What minimum and maximum n-gram size was specified for training this fastText model? (*1 point for the correct answer*)"
      ]
    },
    {
      "cell_type": "code",
      "execution_count": null,
      "metadata": {
        "id": "aW-XEksGR28U"
      },
      "outputs": [],
      "source": [
        "# encode Dutch words and pseudowords as fastText embeddings\n",
        "# show the first 20 values of the embedding of the word 'speelplaats' and of the pseudoword 'danchunk'\n",
        "# 2 points for correctly encoding words and pseudowords with fastText"
      ]
    },
    {
      "cell_type": "code",
      "execution_count": null,
      "metadata": {
        "id": "3ePBth7cSAJU"
      },
      "outputs": [],
      "source": [
        "# train regression model on word valence\n",
        "# 1 point for correctly training the regression model"
      ]
    },
    {
      "cell_type": "code",
      "execution_count": null,
      "metadata": {
        "id": "REJnnM2mSHHK"
      },
      "outputs": [],
      "source": [
        "# apply the trained model to predict the valence of pseudowords from Gatti et al (2024).\n",
        "# Then apply the same model back onto the training set to see how well it predicts the valence of words in Speed and Brysbaert (2024).\n",
        "# 1 point for correctly applied model"
      ]
    },
    {
      "cell_type": "code",
      "execution_count": null,
      "metadata": {
        "id": "JIyyTyfHSKh5"
      },
      "outputs": [],
      "source": [
        "# compute the Spearman correlation coefficients between true valence and predicted valence for\n",
        "# - words from Speed and Brysbaert (2024)\n",
        "# - pseudowords from Gatti and colleagues (2024)\n",
        "# show the correlation coefficient.\n",
        "# 1 point for the correct Spearman correlation coefficients (rounded to the third decimal place)"
      ]
    },
    {
      "cell_type": "markdown",
      "metadata": {
        "id": "wnqKJ5XOSTbM"
      },
      "source": [
        "**Task 3** (*6 points available, see breakdown below*)\n",
        "\n",
        "Now you are asked to extend the work by Gatti et al by also considering the representations learned by a transformer-based models, in detail *RobBERT v2* (https://huggingface.co/pdelobelle/robbert-v2-dutch-base). You should follow the same pipeline as for the previous models, encoding both Dutch words from Speed and Brysbaert (2024) and the pseudowords from Gatti et al using the embedding of each string at layer 0, before positional information is factored in. If a string consists of multiple tokens, average the embeddings of all tokens to produce the embedding of the whole string. Then train a multiple regression model on the valence of Dutch words, apply it to the pseudowords, and compute the Spearman correlation between observed and predicted ratings.\n",
        "\n",
        "Use the HuggingFace model card for RobBERT v2 to check how to access it.\n",
        "\n",
        "I recommend saving the embeddings to file once you have generated them and you know they are correct: embedding thousands of strings takes some time, and you don't want to have to do it again. For the same reason, develop your code by considering only a small fractions of the words and pseudowords, in order to quickly see if something is wrong. Only when you are positive it works, embed all strings."
      ]
    },
    {
      "cell_type": "code",
      "execution_count": null,
      "metadata": {
        "collapsed": true,
        "id": "Ppi-Zcp6i9Rn"
      },
      "outputs": [],
      "source": [
        "# load and instantiate the right model\n",
        "# 1 point for loading the right model"
      ]
    },
    {
      "cell_type": "code",
      "execution_count": null,
      "metadata": {
        "id": "nGBaQgZqZzhw"
      },
      "outputs": [],
      "source": [
        "# encode the words and pseudowords using RobBERT v2. I've used the free GPU runtime on COLAB to speed things up,\n",
        "# but in this case you need to batch the words and pseudowords. You can use the function below to create batches\n",
        "# but you will have to pay attention at how you store embeddings.\n",
        "# show the first 20 values of the embedding of the word 'miauwen' and of the pseudoword 'lixthless'\n",
        "# 2 points for correctly encoding words and pseudowords\n",
        "\n",
        "def chunks(lst, n):\n",
        "\n",
        "    \"\"\"Chunks a list into equal chunks containing n elements. Returns a list of lists.\"\"\"\n",
        "\n",
        "    chunked = []\n",
        "    for i in range(0, len(lst), n):\n",
        "        chunked.append(lst[i:i + n])\n",
        "    return chunked\n"
      ]
    },
    {
      "cell_type": "code",
      "execution_count": null,
      "metadata": {
        "id": "BFq3hHCDUPjL"
      },
      "outputs": [],
      "source": [
        "# train regression model on word valence estimates from Speed and Brysbaert (2024)\n",
        "# 1 point for correctly training the regression model"
      ]
    },
    {
      "cell_type": "code",
      "execution_count": null,
      "metadata": {
        "id": "evaU9NAxUSoW"
      },
      "outputs": [],
      "source": [
        "# apply the trained model to predict the valence of pseudowords from Gatti et al (2024).\n",
        "# Then apply the same model back onto the training set to see how well it predicts the valence of words in Speed and Brysbaert (2024).\n",
        "# 1 point for correctly applied model"
      ]
    },
    {
      "cell_type": "code",
      "execution_count": null,
      "metadata": {
        "id": "JVcuHS02UUPd"
      },
      "outputs": [],
      "source": [
        "# compute the Spearman correlation coefficients between true valence and predicted valence for\n",
        "# - words from Speed and Brysbaert (2024)\n",
        "# - pseudowords from Gatti and colleagues (2024)\n",
        "# show the correlation coefficient\n",
        "# 1 point for the correct Spearman correlation coefficients (rounded to the third decimal place)"
      ]
    },
    {
      "cell_type": "markdown",
      "metadata": {
        "id": "DfWX1QTfB172"
      },
      "source": [
        "**Task 4** (*16 points available, 4 for each question*)\n",
        "\n",
        "Answer the following questions.\n",
        "\n",
        "**4a.** Describe the performance of each featurization, comparing\n",
        "- the performance of a same model between the training and test set\n",
        "- the performance of different models on the training set\n",
        "- the performance of different models on the test set\n",
        "\n",
        "(*4 points available, max 150 words*)"
      ]
    },
    {
      "cell_type": "markdown",
      "metadata": {
        "id": "EONmoGe8CAyI"
      },
      "source": [
        "*type your answer here*"
      ]
    },
    {
      "cell_type": "markdown",
      "metadata": {
        "id": "GpkgvOqeB6jH"
      },
      "source": [
        "**4b.** Compare the correlations you found when training uni-gram, bi-gram, and fastText models on Dutch words and the correlations of similar models trained on English data as reported by Gatti and colleagues; summarize the most important similarities and differences.\n",
        "\n",
        "(*4 points available, max 150 words*)"
      ]
    },
    {
      "cell_type": "markdown",
      "metadata": {
        "id": "Vv7P2zvnCBiX"
      },
      "source": [
        "*type your answer here*"
      ]
    },
    {
      "cell_type": "markdown",
      "metadata": {
        "id": "GQ2SxrYHy3Hx"
      },
      "source": [
        "**4c.** Do you think the performance of the fastText featurization would change if you were to use different n-grams? Would you make them smaller or larger? Justify your answer.\n",
        "\n",
        "(*4 points available, max 150 words*)"
      ]
    },
    {
      "cell_type": "markdown",
      "metadata": {
        "id": "-M-lvw2qVjNH"
      },
      "source": [
        "*type your answer here*"
      ]
    },
    {
      "cell_type": "markdown",
      "metadata": {
        "id": "5_-zN3Vp2OBD"
      },
      "source": [
        "**4d.** Do you think that training the same models on uni-grams, bi-grams, fastText and transformer-based embeddings but using valence ratings for Finnish (a language which uses the same alphabet as English but is not a IndoEuropean language) words would yield a similar pattern of results? Justify your answer.\n",
        "\n",
        "(*4 points available, max 150 words*)"
      ]
    },
    {
      "cell_type": "markdown",
      "metadata": {
        "id": "20T-4kCdVppE"
      },
      "source": [
        "*type your answer here*"
      ]
    },
    {
      "cell_type": "markdown",
      "metadata": {
        "id": "w4ILTPziXptK"
      },
      "source": [
        "**Task 5** (*3 points available*)\n",
        "\n",
        "Compute the average Levenshtein Distance (aLD) between each pseudoword and the 20 words at the smallest edit distance from it. Consider the set of words you used to filter out pseudowords that happen to be valid Dutch words (the file is available in this OSF repository: https://osf.io/9zymw/) to retrieve the 20 words at the smallest edit distance."
      ]
    },
    {
      "cell_type": "code",
      "execution_count": null,
      "metadata": {
        "id": "OGks7N-JCjFu"
      },
      "outputs": [],
      "source": [
        "# compute the average Levenshtein distance from each pseudoword to the words used to filter out pseudowords.\n",
        "# Show the aLD estimate for the pseudowords 'nedukes', 'pewbin', and 'vibcines'\n",
        "# 3 points for correctly computing aLD for pseudowords"
      ]
    },
    {
      "cell_type": "markdown",
      "metadata": {
        "id": "zBdwMhHsYY0j"
      },
      "source": [
        "**Task 6** (*3 points available*)\n",
        "\n",
        "For each pseudoword, record the number of tokens in which RobBERT v2 encodes it."
      ]
    },
    {
      "cell_type": "code",
      "execution_count": null,
      "metadata": {
        "collapsed": true,
        "id": "FDOechQfmvqE"
      },
      "outputs": [],
      "source": [
        "# record the number of tokens in which RobBERT divides each pseudoword\n",
        "# show the number of tokens for the pseudowords 'yuxwas', 'skibfy', and 'errords'\n",
        "# 3 points for correctly mapping pseudowords to number of tokens"
      ]
    },
    {
      "cell_type": "markdown",
      "metadata": {
        "id": "H9LxipdMYqXN"
      },
      "source": [
        "**Task 7** (*5 points available, see breakdown below*)\n",
        "\n",
        "Compute the residuals of the predicted valence under the four regressors trained and applied in tasks 2 to 4. Then, correlate the residuals from all four models with aLD. Finally, correlate the residuals from the RobBERT v2 model with the number of tokens in which each pseudoword is split. Use the Pearson's correlation coefficient."
      ]
    },
    {
      "cell_type": "code",
      "execution_count": null,
      "metadata": {
        "id": "dc2p7UXSCi-q"
      },
      "outputs": [],
      "source": [
        "# compute the residuals from all four regression models fitted before\n",
        "# 1 point available for correctly computing residuals"
      ]
    },
    {
      "cell_type": "code",
      "execution_count": null,
      "metadata": {
        "id": "KkqJLI17C0Ml"
      },
      "outputs": [],
      "source": [
        "# compute the Pearson's correlation between residuals and average LD for all models,\n",
        "# as well as the correlation between RobBERT v2 residuals and the number of tokens in which each pseudoword\n",
        "#    is encoded by the RobBERT v2 model.\n",
        "# show all correlation coefficients\n",
        "# 4 points for the correct correlation coefficients"
      ]
    },
    {
      "cell_type": "markdown",
      "metadata": {
        "id": "6owroLfAC4vf"
      },
      "source": [
        "**Task 8** What is the relation between the errors each model made and aLD? what about the number of tokens (limited to the RobBERT v2 model)?\n",
        "\n",
        "(*4 points available, max 150 words*)"
      ]
    },
    {
      "cell_type": "markdown",
      "metadata": {
        "id": "LvaOAjqxuHgm"
      },
      "source": [
        "*testo in corsivo*"
      ]
    }
  ],
  "metadata": {
    "accelerator": "GPU",
    "colab": {
      "gpuType": "T4",
      "provenance": []
    },
    "kernelspec": {
      "display_name": "Python 3",
      "name": "python3"
    },
    "language_info": {
      "codemirror_mode": {
        "name": "ipython",
        "version": 3
      },
      "file_extension": ".py",
      "mimetype": "text/x-python",
      "name": "python",
      "nbconvert_exporter": "python",
      "pygments_lexer": "ipython3",
      "version": "3.11.5"
    }
  },
  "nbformat": 4,
  "nbformat_minor": 0
}
