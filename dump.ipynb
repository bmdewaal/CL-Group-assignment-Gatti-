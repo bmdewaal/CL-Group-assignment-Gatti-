{
 "cells": [
  {
   "cell_type": "markdown",
   "id": "5ec0a873",
   "metadata": {},
   "source": [
    "## Model training / predicting"
   ]
  },
  {
   "cell_type": "code",
   "execution_count": null,
   "id": "474b3148",
   "metadata": {
    "vscode": {
     "languageId": "plaintext"
    }
   },
   "outputs": [],
   "source": []
  },
  {
   "cell_type": "markdown",
   "id": "d608b58f",
   "metadata": {},
   "source": []
  }
 ],
 "metadata": {
  "language_info": {
   "name": "python"
  }
 },
 "nbformat": 4,
 "nbformat_minor": 5
}
